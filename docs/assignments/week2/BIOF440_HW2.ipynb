{
 "cells": [
  {
   "cell_type": "markdown",
   "id": "blocked-canada",
   "metadata": {},
   "source": [
    "# BIOF 440 Homework: Week 2\n",
    "\n",
    "## Instructions\n",
    "\n",
    "This homework must be done on a Jupyter notebook, either through JupyterLab or Notebook. The submission will consist of **2 files**; both files are required for complete submission. \n",
    "\n",
    "1. The homework will be provided as a `ipynb` file, to be opened in JupyterLab or Jupyter Notebook. This file must be edited to include required code, run within the _biof440_ environment to produce outputs for code, and submitted.\n",
    "1. The final `ipynb` file, after all your work is done, must be converted to a HTML file using `File > Export Notebook As...` in JupyterLab or `File > Download as..` in Jupyter Notebook. Check that this HTML file contains all the outputs required from the assignment. This file needs to be submitted as well.\n",
    "1. Please submit both files using the naming convention `BIOF440_HW2_Lastname.ipynb` and `BIOF440_HW2_Lastname.html`, replacing \"Lastname\" with your last name/surname/family name.\n",
    "\n",
    "-----"
   ]
  },
  {
   "cell_type": "markdown",
   "id": "intense-thriller",
   "metadata": {},
   "source": [
    "For this class, please create a folder named `BIOF440` on your computer where all the material will reside, and within that folder create a sub-folder named `data` where you will store data sets used in class. All your deliverables should be written in the `BIOF440` folder, so that your code will be consistent with mine in terms of reading data, and will make my life correcting your homework more reasonable. If I have to go through hoops to try and run your notebook to reproduce your homework, I will deduct **5 points** from the homework. To this end, **ensure that you're running the Jupyter notebook using the biof440 environment, so that we don't have issues with packages not being installed**. \n",
    "\n",
    "Each full question is **30 points**. You will get full credit if all the parts are done correctly. Extra credit problems will allow you to have a score of more than 100% for this homework.\n",
    "\n",
    "## Question 1\n",
    "\n",
    "### 1 (A)\n",
    "\n",
    "In the following code chunk, import the packages `numpy` and `pandas` using the usual aliases `np` and `pd` respectively."
   ]
  },
  {
   "cell_type": "code",
   "execution_count": 1,
   "id": "tamil-samba",
   "metadata": {},
   "outputs": [],
   "source": []
  },
  {
   "cell_type": "markdown",
   "id": "entire-machinery",
   "metadata": {},
   "source": [
    "### 1 (B)\n",
    "\n",
    "We spoke of the example data sets denoted table1, table2, table3, table4a, table4b and table5 (p. 63 of the pandas slides). All the files are available on Canvas and should be downloaded to the `data` folder described above. Read these 6 files into a dictionary (`dict`) object named `tbl_data`, with keys being the names listed earlier here, and the values being the actual data, using a `for-loop` and `pandas` functions. Show your code below. "
   ]
  },
  {
   "cell_type": "code",
   "execution_count": null,
   "id": "stone-denial",
   "metadata": {},
   "outputs": [],
   "source": []
  },
  {
   "cell_type": "markdown",
   "id": "funny-outside",
   "metadata": {},
   "source": [
    "### 1 (C)\n",
    "\n",
    "Write why each of table1, table2, table3, (table4a + table4b) and table5 are or are not tidy, and, if not, how would you transform them to make them tidy. "
   ]
  },
  {
   "cell_type": "code",
   "execution_count": null,
   "id": "fancy-modification",
   "metadata": {},
   "outputs": [],
   "source": []
  },
  {
   "cell_type": "markdown",
   "id": "athletic-representative",
   "metadata": {},
   "source": [
    "### 1 (extra credit, 5 points)\n",
    "\n",
    "Write the Python code below that would transform each of the data sets (or the pair `table4a + table4b`) to be tidy."
   ]
  },
  {
   "cell_type": "code",
   "execution_count": null,
   "id": "similar-latitude",
   "metadata": {},
   "outputs": [],
   "source": []
  },
  {
   "cell_type": "markdown",
   "id": "fancy-clock",
   "metadata": {},
   "source": [
    "## Question 2\n",
    "\n",
    "### 2 (A)\n",
    "\n",
    "Read in to Python the gapminder dataset. Note from the slides how to read it in, since it is tab-delimited. Call it `gapm`"
   ]
  },
  {
   "cell_type": "code",
   "execution_count": null,
   "id": "separated-source",
   "metadata": {},
   "outputs": [],
   "source": []
  },
  {
   "cell_type": "markdown",
   "id": "unavailable-verification",
   "metadata": {},
   "source": [
    "### 2 (B)\n",
    "\n",
    "We want to create the following plot:\n",
    "\n",
    "![](bar1.png)\n",
    "\n",
    "To create this we need to get our data in shape!\n",
    "\n",
    "First, find the average life expectancy by continent in 2007. Make sure your result is a `DataFrame` and not a `Series` by appropriate use of `reset_index`."
   ]
  },
  {
   "cell_type": "code",
   "execution_count": null,
   "id": "widespread-alignment",
   "metadata": {},
   "outputs": [],
   "source": []
  },
  {
   "cell_type": "markdown",
   "id": "roman-vacation",
   "metadata": {},
   "source": [
    "### 2 (C) \n",
    "\n",
    "Apply the function `sort_values` to the DataFrame created in 2(B) to re-arrange the rows in increasing order of life expectancy. Use the help features or Google to figure out how to use `sort_values`"
   ]
  },
  {
   "cell_type": "code",
   "execution_count": null,
   "id": "temporal-throw",
   "metadata": {},
   "outputs": [],
   "source": []
  },
  {
   "cell_type": "markdown",
   "id": "specified-chosen",
   "metadata": {},
   "source": [
    "## Question 3\n",
    "\n",
    "### 3 (A)\n",
    "\n",
    "Download the files BreastCancer_Clinical.xlsx and BreastCancer_Expression.xlsx from Canvas. Read both of these data into Python, calling them `brca_clin` and `brca_expr`, respectively."
   ]
  },
  {
   "cell_type": "code",
   "execution_count": null,
   "id": "temporal-survival",
   "metadata": {},
   "outputs": [],
   "source": []
  },
  {
   "cell_type": "markdown",
   "id": "gorgeous-carrier",
   "metadata": {},
   "source": [
    "### 3 (B)\n",
    "\n",
    "Identify the common subject identifier in the two datasets and merge `brca_clin` with `brca_expr` using a left join, calling the result `brca`. To check, this merged dataset should have 108 rows and 41 columns"
   ]
  },
  {
   "cell_type": "code",
   "execution_count": null,
   "id": "entitled-pilot",
   "metadata": {},
   "outputs": [],
   "source": []
  },
  {
   "cell_type": "markdown",
   "id": "dried-administrator",
   "metadata": {},
   "source": [
    "### 3 (C)\n",
    "\n",
    "Find the mean expression of the proteins NP_958782 & NP_958785 by ER status."
   ]
  },
  {
   "cell_type": "code",
   "execution_count": null,
   "id": "assigned-credits",
   "metadata": {},
   "outputs": [],
   "source": []
  },
  {
   "cell_type": "markdown",
   "id": "earlier-triangle",
   "metadata": {},
   "source": [
    "### 3 (Extra credit, 5 points)\n",
    "\n",
    "Create a new column in `brca` that equals \"HR + \" if either ER or PR are positive, \"HER2\" if HER2 Final Status is positive, and \"Triple Neg\" if all of ER, PR and HER2 status are negative. "
   ]
  },
  {
   "cell_type": "code",
   "execution_count": null,
   "id": "hazardous-blues",
   "metadata": {},
   "outputs": [],
   "source": []
  },
  {
   "cell_type": "markdown",
   "id": "considered-royalty",
   "metadata": {},
   "source": [
    "## Extra credit (15 points)\n",
    "\n",
    "Download weather.csv into your `data` directory. Use a combination of Python data munging (transformation) tools to make this data tidy. "
   ]
  },
  {
   "cell_type": "code",
   "execution_count": null,
   "id": "surgical-struggle",
   "metadata": {},
   "outputs": [],
   "source": []
  }
 ],
 "metadata": {
  "kernelspec": {
   "display_name": "Python 3",
   "language": "python",
   "name": "python3"
  },
  "language_info": {
   "codemirror_mode": {
    "name": "ipython",
    "version": 3
   },
   "file_extension": ".py",
   "mimetype": "text/x-python",
   "name": "python",
   "nbconvert_exporter": "python",
   "pygments_lexer": "ipython3",
   "version": "3.8.8"
  }
 },
 "nbformat": 4,
 "nbformat_minor": 5
}
