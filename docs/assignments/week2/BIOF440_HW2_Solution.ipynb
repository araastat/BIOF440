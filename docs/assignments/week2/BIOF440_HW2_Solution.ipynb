{
  "cells": [
    {
      "cell_type": "markdown",
      "source": [
        "# BIOF 440 Homework: Week 2\n",
        "\n",
        "## Instructions\n",
        "\n",
        "This homework must be done on a Jupyter notebook, either through JupyterLab or Notebook. The submission will consist of **2 files**; both files are required for complete submission. \n",
        "\n",
        "1. The homework will be provided as a `ipynb` file, to be opened in JupyterLab or Jupyter Notebook. This file must be edited to include required code, run within the _biof440_ environment to produce outputs for code, and submitted.\n",
        "1. The final `ipynb` file, after all your work is done, must be converted to a HTML file using `File > Export Notebook As...` in JupyterLab or `File > Download as..` in Jupyter Notebook. Check that this HTML file contains all the outputs required from the assignment. This file needs to be submitted as well.\n",
        "1. Please submit both files using the naming convention `BIOF440_HW2_Lastname.ipynb` and `BIOF440_HW2_Lastname.html`, replacing \"Lastname\" with your last name/surname/family name.\n",
        "\n",
        "-----"
      ],
      "metadata": {},
      "id": "irish-binary"
    },
    {
      "cell_type": "markdown",
      "source": [
        "For this class, please create a folder named `BIOF440` on your computer where all the material will reside, and within that folder create a sub-folder named `data` where you will store data sets used in class. All your deliverables should be written in the `BIOF440` folder, so that your code will be consistent with mine in terms of reading data, and will make my life correcting your homework more reasonable. If I have to go through hoops to try and run your notebook to reproduce your homework, I will deduct **5 points** from the homework. To this end, **ensure that you're running the Jupyter notebook using the biof440 environment, so that we don't have issues with packages not being installed**. \n",
        "\n",
        "Each full question is **30 points**. You will get full credit if all the parts are done correctly. Extra credit problems will allow you to have a score of more than 100% for this homework.\n",
        "\n",
        "## Question 1\n",
        "\n",
        "### 1 (A)\n",
        "\n",
        "In the following code chunk, import the packages `numpy` and `pandas` using the usual aliases `np` and `pd` respectively."
      ],
      "metadata": {},
      "id": "roman-lesson"
    },
    {
      "cell_type": "code",
      "source": [
        "import numpy as np\n",
        "import pandas as pd"
      ],
      "outputs": [],
      "execution_count": 2,
      "metadata": {
        "execution": {
          "iopub.status.busy": "2021-05-08T19:26:43.671Z",
          "iopub.execute_input": "2021-05-08T19:26:43.690Z",
          "shell.execute_reply": "2021-05-08T19:26:44.168Z",
          "iopub.status.idle": "2021-05-08T19:26:44.183Z"
        }
      },
      "id": "controlled-choice"
    },
    {
      "cell_type": "markdown",
      "source": [
        "### 1 (B)\n",
        "\n",
        "We spoke of the example data sets denoted table1, table2, table3, table4a, table4b and table5 (p. 63 of the pandas slides). All the files are available on Canvas and should be downloaded to the `data` folder described above. Read these 6 files into a dictionary (`dict`) object named `tbl_data`, with keys being the names listed earlier here, and the values being the actual data, using a `for-loop` and `pandas` functions. Show your code below. "
      ],
      "metadata": {},
      "id": "worldwide-weather"
    },
    {
      "cell_type": "code",
      "source": [
        "tbl_data = {}\n",
        "fnames = ['table1','table2','table3','table4a','table4b','table5']\n",
        "for f in fnames:\n",
        "    tbl_data[f] = pd.read_csv('data/'+f+'.csv')\n",
        "tbl_data"
      ],
      "outputs": [
        {
          "output_type": "execute_result",
          "execution_count": 2,
          "data": {
            "text/plain": "{'table1':        country  year   cases  population\n 0  Afghanistan  1999     745    19987071\n 1  Afghanistan  2000    2666    20595360\n 2       Brazil  1999   37737   172006362\n 3       Brazil  2000   80488   174504898\n 4        China  1999  212258  1272915272\n 5        China  2000  213766  1280428583,\n 'table2':         country  year        type       count\n 0   Afghanistan  1999       cases         745\n 1   Afghanistan  1999  population    19987071\n 2   Afghanistan  2000       cases        2666\n 3   Afghanistan  2000  population    20595360\n 4        Brazil  1999       cases       37737\n 5        Brazil  1999  population   172006362\n 6        Brazil  2000       cases       80488\n 7        Brazil  2000  population   174504898\n 8         China  1999       cases      212258\n 9         China  1999  population  1272915272\n 10        China  2000       cases      213766\n 11        China  2000  population  1280428583,\n 'table3':        country  year               rate\n 0  Afghanistan  1999       745/19987071\n 1  Afghanistan  2000      2666/20595360\n 2       Brazil  1999    37737/172006362\n 3       Brazil  2000    80488/174504898\n 4        China  1999  212258/1272915272\n 5        China  2000  213766/1280428583,\n 'table4a':        country    1999    2000\n 0  Afghanistan     745    2666\n 1       Brazil   37737   80488\n 2        China  212258  213766,\n 'table4b':        country        1999        2000\n 0  Afghanistan    19987071    20595360\n 1       Brazil   172006362   174504898\n 2        China  1272915272  1280428583,\n 'table5':        country  century  year               rate\n 0  Afghanistan       19    99       745/19987071\n 1  Afghanistan       20     0      2666/20595360\n 2       Brazil       19    99    37737/172006362\n 3       Brazil       20     0    80488/174504898\n 4        China       19    99  212258/1272915272\n 5        China       20     0  213766/1280428583}"
          },
          "metadata": {}
        }
      ],
      "execution_count": 2,
      "metadata": {},
      "id": "central-independence"
    },
    {
      "cell_type": "markdown",
      "source": [
        "### 1 (C)\n",
        "\n",
        "Write why each of table1, table2, table3, (table4a + table4b) and table5 are or are not tidy, and, if not, how would you transform them to make them tidy. "
      ],
      "metadata": {},
      "id": "miniature-conflict"
    },
    {
      "cell_type": "markdown",
      "source": [
        "table1 is tidy\n",
        "\n",
        "table2 is not tidy since the column `type` contains 2 kinds of data\n",
        "\n",
        "table3 is not tidy, since the `rate` column is a composite column with both cases and population, as a string\n",
        "\n",
        "tables 4a and 4b aren't tidy, since the year data are column headers\n",
        "\n",
        "table5 is nto tidy, since, like table3, the `rate` column is composite, and `century` and `year` can be combined into just year"
      ],
      "metadata": {},
      "id": "apparent-occasions"
    },
    {
      "cell_type": "markdown",
      "source": [
        "### 1 (extra credit, 5 points)\n",
        "\n",
        "Write the Python code below that would transform each of the data sets (or the pair `table4a + table4b`) to be tidy."
      ],
      "metadata": {},
      "id": "coral-framing"
    },
    {
      "cell_type": "code",
      "source": [
        "# Convert table2\n",
        "pd.pivot_table(tbl_data['table2'],\n",
        "               index = ['country','year'],\n",
        "               columns='type', \n",
        "               values='count').reset_index()"
      ],
      "outputs": [
        {
          "output_type": "execute_result",
          "execution_count": 3,
          "data": {
            "text/html": "<div>\n<style scoped>\n    .dataframe tbody tr th:only-of-type {\n        vertical-align: middle;\n    }\n\n    .dataframe tbody tr th {\n        vertical-align: top;\n    }\n\n    .dataframe thead th {\n        text-align: right;\n    }\n</style>\n<table border=\"1\" class=\"dataframe\">\n  <thead>\n    <tr style=\"text-align: right;\">\n      <th>type</th>\n      <th>country</th>\n      <th>year</th>\n      <th>cases</th>\n      <th>population</th>\n    </tr>\n  </thead>\n  <tbody>\n    <tr>\n      <th>0</th>\n      <td>Afghanistan</td>\n      <td>1999</td>\n      <td>745</td>\n      <td>19987071</td>\n    </tr>\n    <tr>\n      <th>1</th>\n      <td>Afghanistan</td>\n      <td>2000</td>\n      <td>2666</td>\n      <td>20595360</td>\n    </tr>\n    <tr>\n      <th>2</th>\n      <td>Brazil</td>\n      <td>1999</td>\n      <td>37737</td>\n      <td>172006362</td>\n    </tr>\n    <tr>\n      <th>3</th>\n      <td>Brazil</td>\n      <td>2000</td>\n      <td>80488</td>\n      <td>174504898</td>\n    </tr>\n    <tr>\n      <th>4</th>\n      <td>China</td>\n      <td>1999</td>\n      <td>212258</td>\n      <td>1272915272</td>\n    </tr>\n    <tr>\n      <th>5</th>\n      <td>China</td>\n      <td>2000</td>\n      <td>213766</td>\n      <td>1280428583</td>\n    </tr>\n  </tbody>\n</table>\n</div>",
            "text/plain": "type      country  year   cases  population\n0     Afghanistan  1999     745    19987071\n1     Afghanistan  2000    2666    20595360\n2          Brazil  1999   37737   172006362\n3          Brazil  2000   80488   174504898\n4           China  1999  212258  1272915272\n5           China  2000  213766  1280428583"
          },
          "metadata": {}
        }
      ],
      "execution_count": 3,
      "metadata": {},
      "id": "fantastic-albania"
    },
    {
      "cell_type": "code",
      "source": [
        "tbl_data['table3']\n",
        "var_split = tbl_data['table3']['rate'].str.split('/', expand=True)\n",
        "var_split.columns = ['cases','population']\n",
        "var_split = var_split.astype(int)\n",
        "pd.concat([tbl_data['table3'], var_split],axis=1).drop(['rate'], axis=1)"
      ],
      "outputs": [
        {
          "output_type": "execute_result",
          "execution_count": 4,
          "data": {
            "text/html": "<div>\n<style scoped>\n    .dataframe tbody tr th:only-of-type {\n        vertical-align: middle;\n    }\n\n    .dataframe tbody tr th {\n        vertical-align: top;\n    }\n\n    .dataframe thead th {\n        text-align: right;\n    }\n</style>\n<table border=\"1\" class=\"dataframe\">\n  <thead>\n    <tr style=\"text-align: right;\">\n      <th></th>\n      <th>country</th>\n      <th>year</th>\n      <th>cases</th>\n      <th>population</th>\n    </tr>\n  </thead>\n  <tbody>\n    <tr>\n      <th>0</th>\n      <td>Afghanistan</td>\n      <td>1999</td>\n      <td>745</td>\n      <td>19987071</td>\n    </tr>\n    <tr>\n      <th>1</th>\n      <td>Afghanistan</td>\n      <td>2000</td>\n      <td>2666</td>\n      <td>20595360</td>\n    </tr>\n    <tr>\n      <th>2</th>\n      <td>Brazil</td>\n      <td>1999</td>\n      <td>37737</td>\n      <td>172006362</td>\n    </tr>\n    <tr>\n      <th>3</th>\n      <td>Brazil</td>\n      <td>2000</td>\n      <td>80488</td>\n      <td>174504898</td>\n    </tr>\n    <tr>\n      <th>4</th>\n      <td>China</td>\n      <td>1999</td>\n      <td>212258</td>\n      <td>1272915272</td>\n    </tr>\n    <tr>\n      <th>5</th>\n      <td>China</td>\n      <td>2000</td>\n      <td>213766</td>\n      <td>1280428583</td>\n    </tr>\n  </tbody>\n</table>\n</div>",
            "text/plain": "       country  year   cases  population\n0  Afghanistan  1999     745    19987071\n1  Afghanistan  2000    2666    20595360\n2       Brazil  1999   37737   172006362\n3       Brazil  2000   80488   174504898\n4        China  1999  212258  1272915272\n5        China  2000  213766  1280428583"
          },
          "metadata": {}
        }
      ],
      "execution_count": 4,
      "metadata": {},
      "id": "included-vulnerability"
    },
    {
      "cell_type": "code",
      "source": [
        "d1 = tbl_data['table4a'].melt(id_vars = 'country',var_name='year', value_name = 'cases')\n",
        "d2 = tbl_data['table4b'].melt(id_vars = 'country', var_name='year', value_name = 'population')\n",
        "pd.merge(d1, d2, left_on = ['country','year'], right_on = ['country','year'])"
      ],
      "outputs": [
        {
          "output_type": "execute_result",
          "execution_count": 5,
          "data": {
            "text/html": "<div>\n<style scoped>\n    .dataframe tbody tr th:only-of-type {\n        vertical-align: middle;\n    }\n\n    .dataframe tbody tr th {\n        vertical-align: top;\n    }\n\n    .dataframe thead th {\n        text-align: right;\n    }\n</style>\n<table border=\"1\" class=\"dataframe\">\n  <thead>\n    <tr style=\"text-align: right;\">\n      <th></th>\n      <th>country</th>\n      <th>year</th>\n      <th>cases</th>\n      <th>population</th>\n    </tr>\n  </thead>\n  <tbody>\n    <tr>\n      <th>0</th>\n      <td>Afghanistan</td>\n      <td>1999</td>\n      <td>745</td>\n      <td>19987071</td>\n    </tr>\n    <tr>\n      <th>1</th>\n      <td>Brazil</td>\n      <td>1999</td>\n      <td>37737</td>\n      <td>172006362</td>\n    </tr>\n    <tr>\n      <th>2</th>\n      <td>China</td>\n      <td>1999</td>\n      <td>212258</td>\n      <td>1272915272</td>\n    </tr>\n    <tr>\n      <th>3</th>\n      <td>Afghanistan</td>\n      <td>2000</td>\n      <td>2666</td>\n      <td>20595360</td>\n    </tr>\n    <tr>\n      <th>4</th>\n      <td>Brazil</td>\n      <td>2000</td>\n      <td>80488</td>\n      <td>174504898</td>\n    </tr>\n    <tr>\n      <th>5</th>\n      <td>China</td>\n      <td>2000</td>\n      <td>213766</td>\n      <td>1280428583</td>\n    </tr>\n  </tbody>\n</table>\n</div>",
            "text/plain": "       country  year   cases  population\n0  Afghanistan  1999     745    19987071\n1       Brazil  1999   37737   172006362\n2        China  1999  212258  1272915272\n3  Afghanistan  2000    2666    20595360\n4       Brazil  2000   80488   174504898\n5        China  2000  213766  1280428583"
          },
          "metadata": {}
        }
      ],
      "execution_count": 5,
      "metadata": {},
      "id": "caroline-liechtenstein"
    },
    {
      "cell_type": "code",
      "source": [
        "d = tbl_data['table5'].copy()\n",
        "d['year'] = [str(x) + str(y).zfill(2) for x,y in zip(d['century'],d['year'])]\n",
        "d1 = d['rate'].str.split('/', expand=True).astype(int).set_axis(['cases','population'], axis=1)\n",
        "d = pd.concat([d, d1], axis=1).drop(['century','rate'], axis=1)\n",
        "d"
      ],
      "outputs": [
        {
          "output_type": "execute_result",
          "execution_count": 6,
          "data": {
            "text/html": "<div>\n<style scoped>\n    .dataframe tbody tr th:only-of-type {\n        vertical-align: middle;\n    }\n\n    .dataframe tbody tr th {\n        vertical-align: top;\n    }\n\n    .dataframe thead th {\n        text-align: right;\n    }\n</style>\n<table border=\"1\" class=\"dataframe\">\n  <thead>\n    <tr style=\"text-align: right;\">\n      <th></th>\n      <th>country</th>\n      <th>year</th>\n      <th>cases</th>\n      <th>population</th>\n    </tr>\n  </thead>\n  <tbody>\n    <tr>\n      <th>0</th>\n      <td>Afghanistan</td>\n      <td>1999</td>\n      <td>745</td>\n      <td>19987071</td>\n    </tr>\n    <tr>\n      <th>1</th>\n      <td>Afghanistan</td>\n      <td>2000</td>\n      <td>2666</td>\n      <td>20595360</td>\n    </tr>\n    <tr>\n      <th>2</th>\n      <td>Brazil</td>\n      <td>1999</td>\n      <td>37737</td>\n      <td>172006362</td>\n    </tr>\n    <tr>\n      <th>3</th>\n      <td>Brazil</td>\n      <td>2000</td>\n      <td>80488</td>\n      <td>174504898</td>\n    </tr>\n    <tr>\n      <th>4</th>\n      <td>China</td>\n      <td>1999</td>\n      <td>212258</td>\n      <td>1272915272</td>\n    </tr>\n    <tr>\n      <th>5</th>\n      <td>China</td>\n      <td>2000</td>\n      <td>213766</td>\n      <td>1280428583</td>\n    </tr>\n  </tbody>\n</table>\n</div>",
            "text/plain": "       country  year   cases  population\n0  Afghanistan  1999     745    19987071\n1  Afghanistan  2000    2666    20595360\n2       Brazil  1999   37737   172006362\n3       Brazil  2000   80488   174504898\n4        China  1999  212258  1272915272\n5        China  2000  213766  1280428583"
          },
          "metadata": {}
        }
      ],
      "execution_count": 6,
      "metadata": {},
      "id": "sonic-platform"
    },
    {
      "cell_type": "markdown",
      "source": [
        "## Question 2\n",
        "\n",
        "### 2 (A)\n",
        "\n",
        "Read in to Python the gapminder dataset. Note from the slides how to read it in, since it is tab-delimited. Call it `gapm`"
      ],
      "metadata": {},
      "id": "sorted-wesley"
    },
    {
      "cell_type": "code",
      "source": [
        "gapm = pd.read_csv('data/gapminder.tsv', sep='\\t')"
      ],
      "outputs": [],
      "execution_count": 7,
      "metadata": {},
      "id": "bridal-elizabeth"
    },
    {
      "cell_type": "markdown",
      "source": [
        "### 2 (B)\n",
        "\n",
        "We want to create the following plot:\n",
        "\n",
        "![](bar1.png)\n",
        "\n",
        "To create this we need to get our data in shape!\n",
        "\n",
        "First, find the average life expectancy by continent in 2007. Make sure your result is a `DataFrame` and not a `Series` by appropriate use of `reset_index`."
      ],
      "metadata": {},
      "id": "starting-looking"
    },
    {
      "cell_type": "code",
      "source": [
        "gapm2 = gapm[gapm.year==2007].groupby('continent')['lifeExp'].mean().reset_index()\n",
        "gapm2"
      ],
      "outputs": [
        {
          "output_type": "execute_result",
          "execution_count": 8,
          "data": {
            "text/html": "<div>\n<style scoped>\n    .dataframe tbody tr th:only-of-type {\n        vertical-align: middle;\n    }\n\n    .dataframe tbody tr th {\n        vertical-align: top;\n    }\n\n    .dataframe thead th {\n        text-align: right;\n    }\n</style>\n<table border=\"1\" class=\"dataframe\">\n  <thead>\n    <tr style=\"text-align: right;\">\n      <th></th>\n      <th>continent</th>\n      <th>lifeExp</th>\n    </tr>\n  </thead>\n  <tbody>\n    <tr>\n      <th>0</th>\n      <td>Africa</td>\n      <td>54.806038</td>\n    </tr>\n    <tr>\n      <th>1</th>\n      <td>Americas</td>\n      <td>73.608120</td>\n    </tr>\n    <tr>\n      <th>2</th>\n      <td>Asia</td>\n      <td>70.728485</td>\n    </tr>\n    <tr>\n      <th>3</th>\n      <td>Europe</td>\n      <td>77.648600</td>\n    </tr>\n    <tr>\n      <th>4</th>\n      <td>Oceania</td>\n      <td>80.719500</td>\n    </tr>\n  </tbody>\n</table>\n</div>",
            "text/plain": "  continent    lifeExp\n0    Africa  54.806038\n1  Americas  73.608120\n2      Asia  70.728485\n3    Europe  77.648600\n4   Oceania  80.719500"
          },
          "metadata": {}
        }
      ],
      "execution_count": 8,
      "metadata": {},
      "id": "passing-domain"
    },
    {
      "cell_type": "markdown",
      "source": [
        "### 2 (C) \n",
        "\n",
        "Apply the function `sort_values` to the DataFrame created in 2(B) to re-arrange the rows in increasing order of life expectancy. Use the help features or Google to figure out how to use `sort_values`"
      ],
      "metadata": {},
      "id": "ready-issue"
    },
    {
      "cell_type": "code",
      "source": [
        "gapm2=gapm2.sort_values('lifeExp')\n",
        "gapm2"
      ],
      "outputs": [
        {
          "output_type": "execute_result",
          "execution_count": 9,
          "data": {
            "text/html": "<div>\n<style scoped>\n    .dataframe tbody tr th:only-of-type {\n        vertical-align: middle;\n    }\n\n    .dataframe tbody tr th {\n        vertical-align: top;\n    }\n\n    .dataframe thead th {\n        text-align: right;\n    }\n</style>\n<table border=\"1\" class=\"dataframe\">\n  <thead>\n    <tr style=\"text-align: right;\">\n      <th></th>\n      <th>continent</th>\n      <th>lifeExp</th>\n    </tr>\n  </thead>\n  <tbody>\n    <tr>\n      <th>0</th>\n      <td>Africa</td>\n      <td>54.806038</td>\n    </tr>\n    <tr>\n      <th>2</th>\n      <td>Asia</td>\n      <td>70.728485</td>\n    </tr>\n    <tr>\n      <th>1</th>\n      <td>Americas</td>\n      <td>73.608120</td>\n    </tr>\n    <tr>\n      <th>3</th>\n      <td>Europe</td>\n      <td>77.648600</td>\n    </tr>\n    <tr>\n      <th>4</th>\n      <td>Oceania</td>\n      <td>80.719500</td>\n    </tr>\n  </tbody>\n</table>\n</div>",
            "text/plain": "  continent    lifeExp\n0    Africa  54.806038\n2      Asia  70.728485\n1  Americas  73.608120\n3    Europe  77.648600\n4   Oceania  80.719500"
          },
          "metadata": {}
        }
      ],
      "execution_count": 9,
      "metadata": {},
      "id": "circular-moderator"
    },
    {
      "cell_type": "markdown",
      "source": [
        "## Question 3\n",
        "\n",
        "### 3 (A)\n",
        "\n",
        "Download the files BreastCancer_Clinical.xlsx and BreastCancer_Expression.xlsx from Canvas. Read both of these data into Python, calling them `brca_clin` and `brca_expr`, respectively."
      ],
      "metadata": {},
      "id": "direct-austria"
    },
    {
      "cell_type": "code",
      "source": [
        "brca_clin = pd.read_excel('data/BreastCancer_Clinical.xlsx')\n",
        "brca_expr = pd.read_excel('data/BreastCancer_Expression.xlsx')"
      ],
      "outputs": [],
      "execution_count": 16,
      "metadata": {
        "execution": {
          "iopub.status.busy": "2021-05-08T19:34:42.704Z",
          "iopub.execute_input": "2021-05-08T19:34:42.714Z",
          "iopub.status.idle": "2021-05-08T19:34:42.770Z",
          "shell.execute_reply": "2021-05-08T19:34:42.781Z"
        }
      },
      "id": "mineral-interstate"
    },
    {
      "cell_type": "markdown",
      "source": [
        "### 3 (B)\n",
        "\n",
        "Identify the common subject identifier in the two datasets and merge `brca_clin` with `brca_expr` using a left join, calling the result `brca`. To check, this merged dataset should have 108 rows and 41 columns"
      ],
      "metadata": {},
      "id": "ceramic-viking"
    },
    {
      "cell_type": "code",
      "source": [
        "brca = brca_clin.merge(brca_expr, left_on='Complete TCGA ID', right_on = 'TCGA_ID', how='left')\n",
        "print(f\"brca has {brca.shape[0]} rows and {brca.shape[1]} columns\")\n",
        "brca.head()"
      ],
      "outputs": [
        {
          "output_type": "stream",
          "name": "stdout",
          "text": [
            "brca has 108 rows and 41 columns\n"
          ]
        },
        {
          "output_type": "execute_result",
          "execution_count": 4,
          "data": {
            "text/plain": "  Complete TCGA ID  Gender  Age at Initial Pathologic Diagnosis ER Status  \\\n0     TCGA-A2-A0T2  FEMALE                                   66  Negative   \n1     TCGA-A2-A0CM  FEMALE                                   40  Negative   \n2     TCGA-BH-A18V  FEMALE                                   48  Negative   \n3     TCGA-BH-A18Q  FEMALE                                   56  Negative   \n4     TCGA-BH-A0E0  FEMALE                                   38  Negative   \n\n  PR Status HER2 Final Status Tumor Tumor--T1 Coded Node Node-Coded  ...  \\\n0  Negative          Negative    T3         T_Other   N3   Positive  ...   \n1  Negative          Negative    T2         T_Other   N0   Negative  ...   \n2  Negative          Negative    T2         T_Other   N1   Positive  ...   \n3  Negative          Negative    T2         T_Other   N1   Positive  ...   \n4  Negative          Negative    T3         T_Other   N3   Positive  ...   \n\n  NP_958782 NP_958785 NP_958786 NP_000436 NP_958781 NP_958780  NP_958783  \\\n0       NaN       NaN       NaN       NaN       NaN       NaN        NaN   \n1  0.683404  0.694424  0.698098  0.687077  0.687077  0.698098   0.698098   \n2       NaN       NaN       NaN       NaN       NaN       NaN        NaN   \n3  0.195341  0.215413  0.215413  0.205377  0.215413  0.215413   0.215413   \n4       NaN       NaN       NaN       NaN       NaN       NaN        NaN   \n\n   NP_958784  NP_112598  NP_001611  \n0        NaN        NaN        NaN  \n1   0.698098   -2.65215  -0.984373  \n2        NaN        NaN        NaN  \n3   0.215413   -1.03576  -0.517226  \n4        NaN        NaN        NaN  \n\n[5 rows x 41 columns]",
            "text/html": "<div>\n<style scoped>\n    .dataframe tbody tr th:only-of-type {\n        vertical-align: middle;\n    }\n\n    .dataframe tbody tr th {\n        vertical-align: top;\n    }\n\n    .dataframe thead th {\n        text-align: right;\n    }\n</style>\n<table border=\"1\" class=\"dataframe\">\n  <thead>\n    <tr style=\"text-align: right;\">\n      <th></th>\n      <th>Complete TCGA ID</th>\n      <th>Gender</th>\n      <th>Age at Initial Pathologic Diagnosis</th>\n      <th>ER Status</th>\n      <th>PR Status</th>\n      <th>HER2 Final Status</th>\n      <th>Tumor</th>\n      <th>Tumor--T1 Coded</th>\n      <th>Node</th>\n      <th>Node-Coded</th>\n      <th>...</th>\n      <th>NP_958782</th>\n      <th>NP_958785</th>\n      <th>NP_958786</th>\n      <th>NP_000436</th>\n      <th>NP_958781</th>\n      <th>NP_958780</th>\n      <th>NP_958783</th>\n      <th>NP_958784</th>\n      <th>NP_112598</th>\n      <th>NP_001611</th>\n    </tr>\n  </thead>\n  <tbody>\n    <tr>\n      <th>0</th>\n      <td>TCGA-A2-A0T2</td>\n      <td>FEMALE</td>\n      <td>66</td>\n      <td>Negative</td>\n      <td>Negative</td>\n      <td>Negative</td>\n      <td>T3</td>\n      <td>T_Other</td>\n      <td>N3</td>\n      <td>Positive</td>\n      <td>...</td>\n      <td>NaN</td>\n      <td>NaN</td>\n      <td>NaN</td>\n      <td>NaN</td>\n      <td>NaN</td>\n      <td>NaN</td>\n      <td>NaN</td>\n      <td>NaN</td>\n      <td>NaN</td>\n      <td>NaN</td>\n    </tr>\n    <tr>\n      <th>1</th>\n      <td>TCGA-A2-A0CM</td>\n      <td>FEMALE</td>\n      <td>40</td>\n      <td>Negative</td>\n      <td>Negative</td>\n      <td>Negative</td>\n      <td>T2</td>\n      <td>T_Other</td>\n      <td>N0</td>\n      <td>Negative</td>\n      <td>...</td>\n      <td>0.683404</td>\n      <td>0.694424</td>\n      <td>0.698098</td>\n      <td>0.687077</td>\n      <td>0.687077</td>\n      <td>0.698098</td>\n      <td>0.698098</td>\n      <td>0.698098</td>\n      <td>-2.65215</td>\n      <td>-0.984373</td>\n    </tr>\n    <tr>\n      <th>2</th>\n      <td>TCGA-BH-A18V</td>\n      <td>FEMALE</td>\n      <td>48</td>\n      <td>Negative</td>\n      <td>Negative</td>\n      <td>Negative</td>\n      <td>T2</td>\n      <td>T_Other</td>\n      <td>N1</td>\n      <td>Positive</td>\n      <td>...</td>\n      <td>NaN</td>\n      <td>NaN</td>\n      <td>NaN</td>\n      <td>NaN</td>\n      <td>NaN</td>\n      <td>NaN</td>\n      <td>NaN</td>\n      <td>NaN</td>\n      <td>NaN</td>\n      <td>NaN</td>\n    </tr>\n    <tr>\n      <th>3</th>\n      <td>TCGA-BH-A18Q</td>\n      <td>FEMALE</td>\n      <td>56</td>\n      <td>Negative</td>\n      <td>Negative</td>\n      <td>Negative</td>\n      <td>T2</td>\n      <td>T_Other</td>\n      <td>N1</td>\n      <td>Positive</td>\n      <td>...</td>\n      <td>0.195341</td>\n      <td>0.215413</td>\n      <td>0.215413</td>\n      <td>0.205377</td>\n      <td>0.215413</td>\n      <td>0.215413</td>\n      <td>0.215413</td>\n      <td>0.215413</td>\n      <td>-1.03576</td>\n      <td>-0.517226</td>\n    </tr>\n    <tr>\n      <th>4</th>\n      <td>TCGA-BH-A0E0</td>\n      <td>FEMALE</td>\n      <td>38</td>\n      <td>Negative</td>\n      <td>Negative</td>\n      <td>Negative</td>\n      <td>T3</td>\n      <td>T_Other</td>\n      <td>N3</td>\n      <td>Positive</td>\n      <td>...</td>\n      <td>NaN</td>\n      <td>NaN</td>\n      <td>NaN</td>\n      <td>NaN</td>\n      <td>NaN</td>\n      <td>NaN</td>\n      <td>NaN</td>\n      <td>NaN</td>\n      <td>NaN</td>\n      <td>NaN</td>\n    </tr>\n  </tbody>\n</table>\n<p>5 rows × 41 columns</p>\n</div>"
          },
          "metadata": {}
        }
      ],
      "execution_count": 4,
      "metadata": {
        "execution": {
          "iopub.status.busy": "2021-05-08T19:26:54.311Z",
          "iopub.execute_input": "2021-05-08T19:26:54.322Z",
          "iopub.status.idle": "2021-05-08T19:26:54.438Z",
          "shell.execute_reply": "2021-05-08T19:26:54.476Z"
        }
      },
      "id": "large-argument"
    },
    {
      "cell_type": "code",
      "source": [
        "pd.merge(brca_clin, brca_expr, how='left',left_on=\"Complete TCGA ID\", right_on=\"TCGA_ID\")"
      ],
      "outputs": [
        {
          "output_type": "execute_result",
          "execution_count": 17,
          "data": {
            "text/plain": "    Complete TCGA ID  Gender  Age at Initial Pathologic Diagnosis ER Status  \\\n0       TCGA-A2-A0T2  FEMALE                                   66  Negative   \n1       TCGA-A2-A0CM  FEMALE                                   40  Negative   \n2       TCGA-BH-A18V  FEMALE                                   48  Negative   \n3       TCGA-BH-A18Q  FEMALE                                   56  Negative   \n4       TCGA-BH-A0E0  FEMALE                                   38  Negative   \n..               ...     ...                                  ...       ...   \n103     TCGA-BH-A0C7  FEMALE                                   48  Positive   \n104     TCGA-BH-A0DD    MALE                                   58  Positive   \n105     TCGA-C8-A12U  FEMALE                                   46  Positive   \n106     TCGA-C8-A12W  FEMALE                                   49  Positive   \n107     TCGA-E2-A15A  FEMALE                                   45  Positive   \n\n    PR Status HER2 Final Status Tumor Tumor--T1 Coded Node Node-Coded  ...  \\\n0    Negative          Negative    T3         T_Other   N3   Positive  ...   \n1    Negative          Negative    T2         T_Other   N0   Negative  ...   \n2    Negative          Negative    T2         T_Other   N1   Positive  ...   \n3    Negative          Negative    T2         T_Other   N1   Positive  ...   \n4    Negative          Negative    T3         T_Other   N3   Positive  ...   \n..        ...               ...   ...             ...  ...        ...  ...   \n103  Negative          Positive    T2         T_Other   N1   Positive  ...   \n104  Positive          Positive    T2         T_Other   N1   Positive  ...   \n105  Positive          Negative    T2         T_Other   N1   Positive  ...   \n106  Positive          Negative    T4         T_Other   N1   Positive  ...   \n107  Positive          Negative    T2         T_Other   N3   Positive  ...   \n\n    NP_958782 NP_958785 NP_958786 NP_000436 NP_958781 NP_958780  NP_958783  \\\n0         NaN       NaN       NaN       NaN       NaN       NaN        NaN   \n1    0.683404  0.694424  0.698098  0.687077  0.687077  0.698098   0.698098   \n2         NaN       NaN       NaN       NaN       NaN       NaN        NaN   \n3    0.195341  0.215413  0.215413  0.205377  0.215413  0.215413   0.215413   \n4         NaN       NaN       NaN       NaN       NaN       NaN        NaN   \n..        ...       ...       ...       ...       ...       ...        ...   \n103 -0.552212 -0.547749 -0.552212 -0.552212 -0.556675 -0.547749  -0.552212   \n104 -0.692316 -0.659469 -0.664161 -0.657122 -0.661815 -0.661815  -0.664161   \n105 -0.481550 -0.477890 -0.481550 -0.470569 -0.481550 -0.485210  -0.481550   \n106       NaN       NaN       NaN       NaN       NaN       NaN        NaN   \n107  2.180123  2.180123  2.180123  2.180123  2.180123  2.180123   2.180123   \n\n     NP_958784  NP_112598  NP_001611  \n0          NaN        NaN        NaN  \n1     0.698098  -2.652150  -0.984373  \n2          NaN        NaN        NaN  \n3     0.215413  -1.035760  -0.517226  \n4          NaN        NaN        NaN  \n..         ...        ...        ...  \n103  -0.552212   0.679466   0.487574  \n104  -0.664161   0.234442   0.980540  \n105  -0.481550  -2.802192  -0.997655  \n106        NaN        NaN        NaN  \n107   2.180123   1.911711   0.896216  \n\n[108 rows x 41 columns]",
            "text/html": "<div>\n<style scoped>\n    .dataframe tbody tr th:only-of-type {\n        vertical-align: middle;\n    }\n\n    .dataframe tbody tr th {\n        vertical-align: top;\n    }\n\n    .dataframe thead th {\n        text-align: right;\n    }\n</style>\n<table border=\"1\" class=\"dataframe\">\n  <thead>\n    <tr style=\"text-align: right;\">\n      <th></th>\n      <th>Complete TCGA ID</th>\n      <th>Gender</th>\n      <th>Age at Initial Pathologic Diagnosis</th>\n      <th>ER Status</th>\n      <th>PR Status</th>\n      <th>HER2 Final Status</th>\n      <th>Tumor</th>\n      <th>Tumor--T1 Coded</th>\n      <th>Node</th>\n      <th>Node-Coded</th>\n      <th>...</th>\n      <th>NP_958782</th>\n      <th>NP_958785</th>\n      <th>NP_958786</th>\n      <th>NP_000436</th>\n      <th>NP_958781</th>\n      <th>NP_958780</th>\n      <th>NP_958783</th>\n      <th>NP_958784</th>\n      <th>NP_112598</th>\n      <th>NP_001611</th>\n    </tr>\n  </thead>\n  <tbody>\n    <tr>\n      <th>0</th>\n      <td>TCGA-A2-A0T2</td>\n      <td>FEMALE</td>\n      <td>66</td>\n      <td>Negative</td>\n      <td>Negative</td>\n      <td>Negative</td>\n      <td>T3</td>\n      <td>T_Other</td>\n      <td>N3</td>\n      <td>Positive</td>\n      <td>...</td>\n      <td>NaN</td>\n      <td>NaN</td>\n      <td>NaN</td>\n      <td>NaN</td>\n      <td>NaN</td>\n      <td>NaN</td>\n      <td>NaN</td>\n      <td>NaN</td>\n      <td>NaN</td>\n      <td>NaN</td>\n    </tr>\n    <tr>\n      <th>1</th>\n      <td>TCGA-A2-A0CM</td>\n      <td>FEMALE</td>\n      <td>40</td>\n      <td>Negative</td>\n      <td>Negative</td>\n      <td>Negative</td>\n      <td>T2</td>\n      <td>T_Other</td>\n      <td>N0</td>\n      <td>Negative</td>\n      <td>...</td>\n      <td>0.683404</td>\n      <td>0.694424</td>\n      <td>0.698098</td>\n      <td>0.687077</td>\n      <td>0.687077</td>\n      <td>0.698098</td>\n      <td>0.698098</td>\n      <td>0.698098</td>\n      <td>-2.652150</td>\n      <td>-0.984373</td>\n    </tr>\n    <tr>\n      <th>2</th>\n      <td>TCGA-BH-A18V</td>\n      <td>FEMALE</td>\n      <td>48</td>\n      <td>Negative</td>\n      <td>Negative</td>\n      <td>Negative</td>\n      <td>T2</td>\n      <td>T_Other</td>\n      <td>N1</td>\n      <td>Positive</td>\n      <td>...</td>\n      <td>NaN</td>\n      <td>NaN</td>\n      <td>NaN</td>\n      <td>NaN</td>\n      <td>NaN</td>\n      <td>NaN</td>\n      <td>NaN</td>\n      <td>NaN</td>\n      <td>NaN</td>\n      <td>NaN</td>\n    </tr>\n    <tr>\n      <th>3</th>\n      <td>TCGA-BH-A18Q</td>\n      <td>FEMALE</td>\n      <td>56</td>\n      <td>Negative</td>\n      <td>Negative</td>\n      <td>Negative</td>\n      <td>T2</td>\n      <td>T_Other</td>\n      <td>N1</td>\n      <td>Positive</td>\n      <td>...</td>\n      <td>0.195341</td>\n      <td>0.215413</td>\n      <td>0.215413</td>\n      <td>0.205377</td>\n      <td>0.215413</td>\n      <td>0.215413</td>\n      <td>0.215413</td>\n      <td>0.215413</td>\n      <td>-1.035760</td>\n      <td>-0.517226</td>\n    </tr>\n    <tr>\n      <th>4</th>\n      <td>TCGA-BH-A0E0</td>\n      <td>FEMALE</td>\n      <td>38</td>\n      <td>Negative</td>\n      <td>Negative</td>\n      <td>Negative</td>\n      <td>T3</td>\n      <td>T_Other</td>\n      <td>N3</td>\n      <td>Positive</td>\n      <td>...</td>\n      <td>NaN</td>\n      <td>NaN</td>\n      <td>NaN</td>\n      <td>NaN</td>\n      <td>NaN</td>\n      <td>NaN</td>\n      <td>NaN</td>\n      <td>NaN</td>\n      <td>NaN</td>\n      <td>NaN</td>\n    </tr>\n    <tr>\n      <th>...</th>\n      <td>...</td>\n      <td>...</td>\n      <td>...</td>\n      <td>...</td>\n      <td>...</td>\n      <td>...</td>\n      <td>...</td>\n      <td>...</td>\n      <td>...</td>\n      <td>...</td>\n      <td>...</td>\n      <td>...</td>\n      <td>...</td>\n      <td>...</td>\n      <td>...</td>\n      <td>...</td>\n      <td>...</td>\n      <td>...</td>\n      <td>...</td>\n      <td>...</td>\n      <td>...</td>\n    </tr>\n    <tr>\n      <th>103</th>\n      <td>TCGA-BH-A0C7</td>\n      <td>FEMALE</td>\n      <td>48</td>\n      <td>Positive</td>\n      <td>Negative</td>\n      <td>Positive</td>\n      <td>T2</td>\n      <td>T_Other</td>\n      <td>N1</td>\n      <td>Positive</td>\n      <td>...</td>\n      <td>-0.552212</td>\n      <td>-0.547749</td>\n      <td>-0.552212</td>\n      <td>-0.552212</td>\n      <td>-0.556675</td>\n      <td>-0.547749</td>\n      <td>-0.552212</td>\n      <td>-0.552212</td>\n      <td>0.679466</td>\n      <td>0.487574</td>\n    </tr>\n    <tr>\n      <th>104</th>\n      <td>TCGA-BH-A0DD</td>\n      <td>MALE</td>\n      <td>58</td>\n      <td>Positive</td>\n      <td>Positive</td>\n      <td>Positive</td>\n      <td>T2</td>\n      <td>T_Other</td>\n      <td>N1</td>\n      <td>Positive</td>\n      <td>...</td>\n      <td>-0.692316</td>\n      <td>-0.659469</td>\n      <td>-0.664161</td>\n      <td>-0.657122</td>\n      <td>-0.661815</td>\n      <td>-0.661815</td>\n      <td>-0.664161</td>\n      <td>-0.664161</td>\n      <td>0.234442</td>\n      <td>0.980540</td>\n    </tr>\n    <tr>\n      <th>105</th>\n      <td>TCGA-C8-A12U</td>\n      <td>FEMALE</td>\n      <td>46</td>\n      <td>Positive</td>\n      <td>Positive</td>\n      <td>Negative</td>\n      <td>T2</td>\n      <td>T_Other</td>\n      <td>N1</td>\n      <td>Positive</td>\n      <td>...</td>\n      <td>-0.481550</td>\n      <td>-0.477890</td>\n      <td>-0.481550</td>\n      <td>-0.470569</td>\n      <td>-0.481550</td>\n      <td>-0.485210</td>\n      <td>-0.481550</td>\n      <td>-0.481550</td>\n      <td>-2.802192</td>\n      <td>-0.997655</td>\n    </tr>\n    <tr>\n      <th>106</th>\n      <td>TCGA-C8-A12W</td>\n      <td>FEMALE</td>\n      <td>49</td>\n      <td>Positive</td>\n      <td>Positive</td>\n      <td>Negative</td>\n      <td>T4</td>\n      <td>T_Other</td>\n      <td>N1</td>\n      <td>Positive</td>\n      <td>...</td>\n      <td>NaN</td>\n      <td>NaN</td>\n      <td>NaN</td>\n      <td>NaN</td>\n      <td>NaN</td>\n      <td>NaN</td>\n      <td>NaN</td>\n      <td>NaN</td>\n      <td>NaN</td>\n      <td>NaN</td>\n    </tr>\n    <tr>\n      <th>107</th>\n      <td>TCGA-E2-A15A</td>\n      <td>FEMALE</td>\n      <td>45</td>\n      <td>Positive</td>\n      <td>Positive</td>\n      <td>Negative</td>\n      <td>T2</td>\n      <td>T_Other</td>\n      <td>N3</td>\n      <td>Positive</td>\n      <td>...</td>\n      <td>2.180123</td>\n      <td>2.180123</td>\n      <td>2.180123</td>\n      <td>2.180123</td>\n      <td>2.180123</td>\n      <td>2.180123</td>\n      <td>2.180123</td>\n      <td>2.180123</td>\n      <td>1.911711</td>\n      <td>0.896216</td>\n    </tr>\n  </tbody>\n</table>\n<p>108 rows × 41 columns</p>\n</div>"
          },
          "metadata": {}
        }
      ],
      "execution_count": 17,
      "metadata": {
        "collapsed": true,
        "jupyter": {
          "source_hidden": false,
          "outputs_hidden": false
        },
        "nteract": {
          "transient": {
            "deleting": false
          }
        },
        "execution": {
          "iopub.status.busy": "2021-05-08T19:35:26.680Z",
          "iopub.execute_input": "2021-05-08T19:35:26.693Z",
          "iopub.status.idle": "2021-05-08T19:35:26.720Z",
          "shell.execute_reply": "2021-05-08T19:35:26.732Z"
        }
      },
      "id": "ba57abfa-0da4-4d8a-b313-d45ecd255249"
    },
    {
      "cell_type": "markdown",
      "source": [
        "### 3 (C)\n",
        "\n",
        "Find the mean expression of the proteins NP_958782 & NP_958785 by ER status."
      ],
      "metadata": {},
      "id": "moving-template"
    },
    {
      "cell_type": "code",
      "source": [
        "brca.groupby('ER Status')[['NP_958782','NP_958785']].mean()"
      ],
      "outputs": [
        {
          "output_type": "execute_result",
          "execution_count": 12,
          "data": {
            "text/html": "<div>\n<style scoped>\n    .dataframe tbody tr th:only-of-type {\n        vertical-align: middle;\n    }\n\n    .dataframe tbody tr th {\n        vertical-align: top;\n    }\n\n    .dataframe thead th {\n        text-align: right;\n    }\n</style>\n<table border=\"1\" class=\"dataframe\">\n  <thead>\n    <tr style=\"text-align: right;\">\n      <th></th>\n      <th>NP_958782</th>\n      <th>NP_958785</th>\n    </tr>\n    <tr>\n      <th>ER Status</th>\n      <th></th>\n      <th></th>\n    </tr>\n  </thead>\n  <tbody>\n    <tr>\n      <th>Indeterminate</th>\n      <td>NaN</td>\n      <td>NaN</td>\n    </tr>\n    <tr>\n      <th>Negative</th>\n      <td>0.429280</td>\n      <td>0.437703</td>\n    </tr>\n    <tr>\n      <th>Positive</th>\n      <td>0.267476</td>\n      <td>0.273189</td>\n    </tr>\n  </tbody>\n</table>\n</div>",
            "text/plain": "               NP_958782  NP_958785\nER Status                          \nIndeterminate        NaN        NaN\nNegative        0.429280   0.437703\nPositive        0.267476   0.273189"
          },
          "metadata": {}
        }
      ],
      "execution_count": 12,
      "metadata": {},
      "id": "relevant-conversion"
    },
    {
      "cell_type": "markdown",
      "source": [
        "### 3 (Extra credit, 5 points)\n",
        "\n",
        "Create a new column `Status` in `brca` that equals \"HR + \" if either ER or PR are positive, \"HER2\" if HER2 Final Status is positive, and \"Triple Neg\" if all of ER, PR and HER2 status are negative, and 'Other' otherwise. "
      ],
      "metadata": {},
      "id": "precious-treasure"
    },
    {
      "cell_type": "code",
      "source": [
        "d = pd.Series('Other', brca.index) # Initialize Series with same number of rows as brca\n",
        "d[(brca['ER Status']=='Positive')|(brca['PR Status']=='Positive')] = 'HR +'\n",
        "d[brca['HER2 Final Status'] == 'Positive'] = 'HER2'\n",
        "d[(brca['ER Status']=='Negative') & \n",
        "  (brca['PR Status']=='Negative') & \n",
        "  (brca['HER2 Final Status'] == 'Negative')]='Triple Neg'\n",
        "brca['Status'] = d\n",
        "brca.head()"
      ],
      "outputs": [
        {
          "output_type": "execute_result",
          "execution_count": 5,
          "data": {
            "text/plain": "  Complete TCGA ID  Gender  Age at Initial Pathologic Diagnosis ER Status  \\\n0     TCGA-A2-A0T2  FEMALE                                   66  Negative   \n1     TCGA-A2-A0CM  FEMALE                                   40  Negative   \n2     TCGA-BH-A18V  FEMALE                                   48  Negative   \n3     TCGA-BH-A18Q  FEMALE                                   56  Negative   \n4     TCGA-BH-A0E0  FEMALE                                   38  Negative   \n\n  PR Status HER2 Final Status Tumor Tumor--T1 Coded Node Node-Coded  ...  \\\n0  Negative          Negative    T3         T_Other   N3   Positive  ...   \n1  Negative          Negative    T2         T_Other   N0   Negative  ...   \n2  Negative          Negative    T2         T_Other   N1   Positive  ...   \n3  Negative          Negative    T2         T_Other   N1   Positive  ...   \n4  Negative          Negative    T3         T_Other   N3   Positive  ...   \n\n  NP_958785 NP_958786 NP_000436 NP_958781 NP_958780 NP_958783  NP_958784  \\\n0       NaN       NaN       NaN       NaN       NaN       NaN        NaN   \n1  0.694424  0.698098  0.687077  0.687077  0.698098  0.698098   0.698098   \n2       NaN       NaN       NaN       NaN       NaN       NaN        NaN   \n3  0.215413  0.215413  0.205377  0.215413  0.215413  0.215413   0.215413   \n4       NaN       NaN       NaN       NaN       NaN       NaN        NaN   \n\n   NP_112598  NP_001611      Status  \n0        NaN        NaN  Triple Neg  \n1   -2.65215  -0.984373  Triple Neg  \n2        NaN        NaN  Triple Neg  \n3   -1.03576  -0.517226  Triple Neg  \n4        NaN        NaN  Triple Neg  \n\n[5 rows x 42 columns]",
            "text/html": "<div>\n<style scoped>\n    .dataframe tbody tr th:only-of-type {\n        vertical-align: middle;\n    }\n\n    .dataframe tbody tr th {\n        vertical-align: top;\n    }\n\n    .dataframe thead th {\n        text-align: right;\n    }\n</style>\n<table border=\"1\" class=\"dataframe\">\n  <thead>\n    <tr style=\"text-align: right;\">\n      <th></th>\n      <th>Complete TCGA ID</th>\n      <th>Gender</th>\n      <th>Age at Initial Pathologic Diagnosis</th>\n      <th>ER Status</th>\n      <th>PR Status</th>\n      <th>HER2 Final Status</th>\n      <th>Tumor</th>\n      <th>Tumor--T1 Coded</th>\n      <th>Node</th>\n      <th>Node-Coded</th>\n      <th>...</th>\n      <th>NP_958785</th>\n      <th>NP_958786</th>\n      <th>NP_000436</th>\n      <th>NP_958781</th>\n      <th>NP_958780</th>\n      <th>NP_958783</th>\n      <th>NP_958784</th>\n      <th>NP_112598</th>\n      <th>NP_001611</th>\n      <th>Status</th>\n    </tr>\n  </thead>\n  <tbody>\n    <tr>\n      <th>0</th>\n      <td>TCGA-A2-A0T2</td>\n      <td>FEMALE</td>\n      <td>66</td>\n      <td>Negative</td>\n      <td>Negative</td>\n      <td>Negative</td>\n      <td>T3</td>\n      <td>T_Other</td>\n      <td>N3</td>\n      <td>Positive</td>\n      <td>...</td>\n      <td>NaN</td>\n      <td>NaN</td>\n      <td>NaN</td>\n      <td>NaN</td>\n      <td>NaN</td>\n      <td>NaN</td>\n      <td>NaN</td>\n      <td>NaN</td>\n      <td>NaN</td>\n      <td>Triple Neg</td>\n    </tr>\n    <tr>\n      <th>1</th>\n      <td>TCGA-A2-A0CM</td>\n      <td>FEMALE</td>\n      <td>40</td>\n      <td>Negative</td>\n      <td>Negative</td>\n      <td>Negative</td>\n      <td>T2</td>\n      <td>T_Other</td>\n      <td>N0</td>\n      <td>Negative</td>\n      <td>...</td>\n      <td>0.694424</td>\n      <td>0.698098</td>\n      <td>0.687077</td>\n      <td>0.687077</td>\n      <td>0.698098</td>\n      <td>0.698098</td>\n      <td>0.698098</td>\n      <td>-2.65215</td>\n      <td>-0.984373</td>\n      <td>Triple Neg</td>\n    </tr>\n    <tr>\n      <th>2</th>\n      <td>TCGA-BH-A18V</td>\n      <td>FEMALE</td>\n      <td>48</td>\n      <td>Negative</td>\n      <td>Negative</td>\n      <td>Negative</td>\n      <td>T2</td>\n      <td>T_Other</td>\n      <td>N1</td>\n      <td>Positive</td>\n      <td>...</td>\n      <td>NaN</td>\n      <td>NaN</td>\n      <td>NaN</td>\n      <td>NaN</td>\n      <td>NaN</td>\n      <td>NaN</td>\n      <td>NaN</td>\n      <td>NaN</td>\n      <td>NaN</td>\n      <td>Triple Neg</td>\n    </tr>\n    <tr>\n      <th>3</th>\n      <td>TCGA-BH-A18Q</td>\n      <td>FEMALE</td>\n      <td>56</td>\n      <td>Negative</td>\n      <td>Negative</td>\n      <td>Negative</td>\n      <td>T2</td>\n      <td>T_Other</td>\n      <td>N1</td>\n      <td>Positive</td>\n      <td>...</td>\n      <td>0.215413</td>\n      <td>0.215413</td>\n      <td>0.205377</td>\n      <td>0.215413</td>\n      <td>0.215413</td>\n      <td>0.215413</td>\n      <td>0.215413</td>\n      <td>-1.03576</td>\n      <td>-0.517226</td>\n      <td>Triple Neg</td>\n    </tr>\n    <tr>\n      <th>4</th>\n      <td>TCGA-BH-A0E0</td>\n      <td>FEMALE</td>\n      <td>38</td>\n      <td>Negative</td>\n      <td>Negative</td>\n      <td>Negative</td>\n      <td>T3</td>\n      <td>T_Other</td>\n      <td>N3</td>\n      <td>Positive</td>\n      <td>...</td>\n      <td>NaN</td>\n      <td>NaN</td>\n      <td>NaN</td>\n      <td>NaN</td>\n      <td>NaN</td>\n      <td>NaN</td>\n      <td>NaN</td>\n      <td>NaN</td>\n      <td>NaN</td>\n      <td>Triple Neg</td>\n    </tr>\n  </tbody>\n</table>\n<p>5 rows × 42 columns</p>\n</div>"
          },
          "metadata": {}
        }
      ],
      "execution_count": 5,
      "metadata": {
        "execution": {
          "iopub.status.busy": "2021-05-08T19:27:22.522Z",
          "iopub.execute_input": "2021-05-08T19:27:22.537Z",
          "iopub.status.idle": "2021-05-08T19:27:22.567Z",
          "shell.execute_reply": "2021-05-08T19:27:22.577Z"
        }
      },
      "id": "happy-theme"
    },
    {
      "cell_type": "code",
      "source": [
        "brca['new_col'] = np.where( ((brca['ER Status'] == 'Positive') | (brca['ER Status'] == 'Positive')), \"HR+\", 0)\n",
        "brca['new_col'] = np.where( (brca['HER2 Final Status'] == 'Positive'), \"HR2\", brca['new_col'])\n",
        "brca['new_col'] = np.where( ((brca['ER Status'] == 'Negative') & (brca['ER Status'] == 'Negative') & (brca['HER2 Final Status'] == 'Negative')), \"Triple Neg\", brca['new_col'])\n",
        "\n",
        "brca['new_col'].value_counts()"
      ],
      "outputs": [
        {
          "output_type": "execute_result",
          "execution_count": 9,
          "data": {
            "text/plain": "HR+           54\nHR2           28\nTriple Neg    26\nName: new_col, dtype: int64"
          },
          "metadata": {}
        }
      ],
      "execution_count": 9,
      "metadata": {
        "collapsed": true,
        "jupyter": {
          "source_hidden": false,
          "outputs_hidden": false
        },
        "nteract": {
          "transient": {
            "deleting": false
          }
        },
        "execution": {
          "iopub.status.busy": "2021-05-08T19:27:52.428Z",
          "iopub.execute_input": "2021-05-08T19:27:52.441Z",
          "iopub.status.idle": "2021-05-08T19:27:52.464Z",
          "shell.execute_reply": "2021-05-08T19:27:52.473Z"
        }
      },
      "id": "49020531-c216-42bd-b2d6-49f244b519bb"
    },
    {
      "cell_type": "code",
      "source": [
        "brca['Status'].value_counts()"
      ],
      "outputs": [
        {
          "output_type": "execute_result",
          "execution_count": 10,
          "data": {
            "text/plain": "HR +          54\nHER2          28\nTriple Neg    26\nName: Status, dtype: int64"
          },
          "metadata": {}
        }
      ],
      "execution_count": 10,
      "metadata": {
        "collapsed": true,
        "jupyter": {
          "source_hidden": false,
          "outputs_hidden": false
        },
        "nteract": {
          "transient": {
            "deleting": false
          }
        },
        "execution": {
          "iopub.status.busy": "2021-05-08T19:28:12.590Z",
          "iopub.execute_input": "2021-05-08T19:28:12.598Z",
          "iopub.status.idle": "2021-05-08T19:28:12.622Z",
          "shell.execute_reply": "2021-05-08T19:28:12.632Z"
        }
      },
      "id": "3b40b148-60ce-441c-b4fe-51a60324bf1b"
    },
    {
      "cell_type": "markdown",
      "source": [
        "## Extra credit (15 points)\n",
        "\n",
        "Download weather.csv into your `data` directory. Use a combination of Python data munging (transformation) tools to make this data tidy. "
      ],
      "metadata": {},
      "id": "cosmetic-demand"
    },
    {
      "cell_type": "code",
      "source": [
        "weather = pd.read_csv('data/weather.csv')\n",
        "weather = weather.melt(id_vars=['id','year','month','element'], var_name = 'variable', value_name='rainfall')\n",
        "weather['day'] = weather['variable'].str.replace('d','').astype(int)\n",
        "weather.drop('variable', axis=1)\n",
        "weather = weather.pivot_table(index = ['id','year','month','day'],\n",
        "                             columns = 'element', values = 'rainfall')\n",
        "weather = weather.reset_index()\n",
        "weather = weather.sort_values(['year','month','day'], axis=0)\n",
        "\n",
        "weather.columns.name=None\n",
        "weather"
      ],
      "outputs": [
        {
          "output_type": "execute_result",
          "execution_count": 14,
          "data": {
            "text/html": "<div>\n<style scoped>\n    .dataframe tbody tr th:only-of-type {\n        vertical-align: middle;\n    }\n\n    .dataframe tbody tr th {\n        vertical-align: top;\n    }\n\n    .dataframe thead th {\n        text-align: right;\n    }\n</style>\n<table border=\"1\" class=\"dataframe\">\n  <thead>\n    <tr style=\"text-align: right;\">\n      <th></th>\n      <th>id</th>\n      <th>year</th>\n      <th>month</th>\n      <th>day</th>\n      <th>tmax</th>\n      <th>tmin</th>\n    </tr>\n  </thead>\n  <tbody>\n    <tr>\n      <th>0</th>\n      <td>MX17004</td>\n      <td>2010</td>\n      <td>1</td>\n      <td>30</td>\n      <td>27.8</td>\n      <td>14.5</td>\n    </tr>\n    <tr>\n      <th>1</th>\n      <td>MX17004</td>\n      <td>2010</td>\n      <td>2</td>\n      <td>2</td>\n      <td>27.3</td>\n      <td>14.4</td>\n    </tr>\n    <tr>\n      <th>2</th>\n      <td>MX17004</td>\n      <td>2010</td>\n      <td>2</td>\n      <td>3</td>\n      <td>24.1</td>\n      <td>14.4</td>\n    </tr>\n    <tr>\n      <th>3</th>\n      <td>MX17004</td>\n      <td>2010</td>\n      <td>2</td>\n      <td>11</td>\n      <td>29.7</td>\n      <td>13.4</td>\n    </tr>\n    <tr>\n      <th>4</th>\n      <td>MX17004</td>\n      <td>2010</td>\n      <td>2</td>\n      <td>23</td>\n      <td>29.9</td>\n      <td>10.7</td>\n    </tr>\n    <tr>\n      <th>5</th>\n      <td>MX17004</td>\n      <td>2010</td>\n      <td>3</td>\n      <td>5</td>\n      <td>32.1</td>\n      <td>14.2</td>\n    </tr>\n    <tr>\n      <th>6</th>\n      <td>MX17004</td>\n      <td>2010</td>\n      <td>3</td>\n      <td>10</td>\n      <td>34.5</td>\n      <td>16.8</td>\n    </tr>\n    <tr>\n      <th>7</th>\n      <td>MX17004</td>\n      <td>2010</td>\n      <td>3</td>\n      <td>16</td>\n      <td>31.1</td>\n      <td>17.6</td>\n    </tr>\n    <tr>\n      <th>8</th>\n      <td>MX17004</td>\n      <td>2010</td>\n      <td>4</td>\n      <td>27</td>\n      <td>36.3</td>\n      <td>16.7</td>\n    </tr>\n    <tr>\n      <th>9</th>\n      <td>MX17004</td>\n      <td>2010</td>\n      <td>5</td>\n      <td>27</td>\n      <td>33.2</td>\n      <td>18.2</td>\n    </tr>\n    <tr>\n      <th>10</th>\n      <td>MX17004</td>\n      <td>2010</td>\n      <td>6</td>\n      <td>17</td>\n      <td>28.0</td>\n      <td>17.5</td>\n    </tr>\n    <tr>\n      <th>11</th>\n      <td>MX17004</td>\n      <td>2010</td>\n      <td>6</td>\n      <td>29</td>\n      <td>30.1</td>\n      <td>18.0</td>\n    </tr>\n    <tr>\n      <th>12</th>\n      <td>MX17004</td>\n      <td>2010</td>\n      <td>7</td>\n      <td>3</td>\n      <td>28.6</td>\n      <td>17.5</td>\n    </tr>\n    <tr>\n      <th>13</th>\n      <td>MX17004</td>\n      <td>2010</td>\n      <td>7</td>\n      <td>14</td>\n      <td>29.9</td>\n      <td>16.5</td>\n    </tr>\n    <tr>\n      <th>15</th>\n      <td>MX17004</td>\n      <td>2010</td>\n      <td>8</td>\n      <td>5</td>\n      <td>29.6</td>\n      <td>15.8</td>\n    </tr>\n    <tr>\n      <th>17</th>\n      <td>MX17004</td>\n      <td>2010</td>\n      <td>8</td>\n      <td>8</td>\n      <td>29.0</td>\n      <td>17.3</td>\n    </tr>\n    <tr>\n      <th>18</th>\n      <td>MX17004</td>\n      <td>2010</td>\n      <td>8</td>\n      <td>13</td>\n      <td>29.8</td>\n      <td>16.5</td>\n    </tr>\n    <tr>\n      <th>14</th>\n      <td>MX17004</td>\n      <td>2010</td>\n      <td>8</td>\n      <td>23</td>\n      <td>26.4</td>\n      <td>15.0</td>\n    </tr>\n    <tr>\n      <th>19</th>\n      <td>MX17004</td>\n      <td>2010</td>\n      <td>8</td>\n      <td>25</td>\n      <td>29.7</td>\n      <td>15.6</td>\n    </tr>\n    <tr>\n      <th>16</th>\n      <td>MX17004</td>\n      <td>2010</td>\n      <td>8</td>\n      <td>29</td>\n      <td>28.0</td>\n      <td>15.3</td>\n    </tr>\n    <tr>\n      <th>20</th>\n      <td>MX17004</td>\n      <td>2010</td>\n      <td>8</td>\n      <td>31</td>\n      <td>25.4</td>\n      <td>15.4</td>\n    </tr>\n    <tr>\n      <th>21</th>\n      <td>MX17004</td>\n      <td>2010</td>\n      <td>10</td>\n      <td>5</td>\n      <td>27.0</td>\n      <td>14.0</td>\n    </tr>\n    <tr>\n      <th>23</th>\n      <td>MX17004</td>\n      <td>2010</td>\n      <td>10</td>\n      <td>7</td>\n      <td>28.1</td>\n      <td>12.9</td>\n    </tr>\n    <tr>\n      <th>22</th>\n      <td>MX17004</td>\n      <td>2010</td>\n      <td>10</td>\n      <td>14</td>\n      <td>29.5</td>\n      <td>13.0</td>\n    </tr>\n    <tr>\n      <th>24</th>\n      <td>MX17004</td>\n      <td>2010</td>\n      <td>10</td>\n      <td>15</td>\n      <td>28.7</td>\n      <td>10.5</td>\n    </tr>\n    <tr>\n      <th>25</th>\n      <td>MX17004</td>\n      <td>2010</td>\n      <td>10</td>\n      <td>28</td>\n      <td>31.2</td>\n      <td>15.0</td>\n    </tr>\n    <tr>\n      <th>26</th>\n      <td>MX17004</td>\n      <td>2010</td>\n      <td>11</td>\n      <td>2</td>\n      <td>31.3</td>\n      <td>16.3</td>\n    </tr>\n    <tr>\n      <th>29</th>\n      <td>MX17004</td>\n      <td>2010</td>\n      <td>11</td>\n      <td>4</td>\n      <td>27.2</td>\n      <td>12.0</td>\n    </tr>\n    <tr>\n      <th>27</th>\n      <td>MX17004</td>\n      <td>2010</td>\n      <td>11</td>\n      <td>5</td>\n      <td>26.3</td>\n      <td>7.9</td>\n    </tr>\n    <tr>\n      <th>30</th>\n      <td>MX17004</td>\n      <td>2010</td>\n      <td>11</td>\n      <td>26</td>\n      <td>28.1</td>\n      <td>12.1</td>\n    </tr>\n    <tr>\n      <th>28</th>\n      <td>MX17004</td>\n      <td>2010</td>\n      <td>11</td>\n      <td>27</td>\n      <td>27.7</td>\n      <td>14.2</td>\n    </tr>\n    <tr>\n      <th>31</th>\n      <td>MX17004</td>\n      <td>2010</td>\n      <td>12</td>\n      <td>1</td>\n      <td>29.9</td>\n      <td>13.8</td>\n    </tr>\n    <tr>\n      <th>32</th>\n      <td>MX17004</td>\n      <td>2010</td>\n      <td>12</td>\n      <td>6</td>\n      <td>27.8</td>\n      <td>10.5</td>\n    </tr>\n  </tbody>\n</table>\n</div>",
            "text/plain": "         id  year  month  day  tmax  tmin\n0   MX17004  2010      1   30  27.8  14.5\n1   MX17004  2010      2    2  27.3  14.4\n2   MX17004  2010      2    3  24.1  14.4\n3   MX17004  2010      2   11  29.7  13.4\n4   MX17004  2010      2   23  29.9  10.7\n5   MX17004  2010      3    5  32.1  14.2\n6   MX17004  2010      3   10  34.5  16.8\n7   MX17004  2010      3   16  31.1  17.6\n8   MX17004  2010      4   27  36.3  16.7\n9   MX17004  2010      5   27  33.2  18.2\n10  MX17004  2010      6   17  28.0  17.5\n11  MX17004  2010      6   29  30.1  18.0\n12  MX17004  2010      7    3  28.6  17.5\n13  MX17004  2010      7   14  29.9  16.5\n15  MX17004  2010      8    5  29.6  15.8\n17  MX17004  2010      8    8  29.0  17.3\n18  MX17004  2010      8   13  29.8  16.5\n14  MX17004  2010      8   23  26.4  15.0\n19  MX17004  2010      8   25  29.7  15.6\n16  MX17004  2010      8   29  28.0  15.3\n20  MX17004  2010      8   31  25.4  15.4\n21  MX17004  2010     10    5  27.0  14.0\n23  MX17004  2010     10    7  28.1  12.9\n22  MX17004  2010     10   14  29.5  13.0\n24  MX17004  2010     10   15  28.7  10.5\n25  MX17004  2010     10   28  31.2  15.0\n26  MX17004  2010     11    2  31.3  16.3\n29  MX17004  2010     11    4  27.2  12.0\n27  MX17004  2010     11    5  26.3   7.9\n30  MX17004  2010     11   26  28.1  12.1\n28  MX17004  2010     11   27  27.7  14.2\n31  MX17004  2010     12    1  29.9  13.8\n32  MX17004  2010     12    6  27.8  10.5"
          },
          "metadata": {}
        }
      ],
      "execution_count": 14,
      "metadata": {},
      "id": "advisory-medline"
    },
    {
      "cell_type": "code",
      "source": [
        "import os\n",
        "os.system('jupyter nbconvert --to html BIOF440_HW2_Solution.ipynb')"
      ],
      "outputs": [
        {
          "output_type": "execute_result",
          "execution_count": 11,
          "data": {
            "text/plain": "0"
          },
          "metadata": {}
        }
      ],
      "execution_count": 11,
      "metadata": {
        "execution": {
          "iopub.status.busy": "2021-05-08T19:28:24.874Z",
          "iopub.execute_input": "2021-05-08T19:28:24.885Z",
          "iopub.status.idle": "2021-05-08T19:28:27.958Z",
          "shell.execute_reply": "2021-05-08T19:28:27.979Z"
        }
      },
      "id": "quality-insider"
    },
    {
      "cell_type": "code",
      "source": [
        "weather = pd.read_csv('data/weather.csv')\n",
        "weather_MX17004_2010_tmax = weather[weather['element'] == 'tmax']\n",
        "weather_MX17004_2010_tmin = weather[weather['element'] == 'tmin']\n",
        "# Drop columns summarized in DF name as they are invariant.\n",
        "weather_MX17004_2010_tmax.drop(columns=['id','year','element'], inplace=True)\n",
        "weather_MX17004_2010_tmin.drop(columns=['id','year','element'], inplace=True)\n",
        "# Now transpose the data so imputation is within months.\n",
        "weather_MX17004_2010_tmax_transposed = weather_MX17004_2010_tmax.T\n",
        "weather_MX17004_2010_tmin_transposed = weather_MX17004_2010_tmin.T\n",
        "# \n",
        "from sklearn.impute import SimpleImputer\n",
        "imputer = SimpleImputer(missing_values = np.nan, strategy ='median')\n",
        "weather_MX17004_2010_tmax_transposed_imputed_array = imputer.fit_transform(weather_MX17004_2010_tmax_transposed)\n",
        "weather_MX17004_2010_tmin_transposed_imputed_array = imputer.fit_transform(weather_MX17004_2010_tmin_transposed)\n",
        "weather_MX17004_2010_tmin_transposed_imputed_df = pd.DataFrame(weather_MX17004_2010_tmin_transposed_imputed_array)\n",
        "weather_MX17004_2010_tmax_transposed_imputed_df = pd.DataFrame(weather_MX17004_2010_tmax_transposed_imputed_array)\n",
        "\n",
        "headers = weather_MX17004_2010_tmin_transposed_imputed_df.iloc[0]\n",
        "tmin_df  = pd.DataFrame(weather_MX17004_2010_tmin_transposed_imputed_df.values[1:], columns=headers)\n",
        "tmin_df.index.name = 'day'\n",
        "\n",
        "headers = weather_MX17004_2010_tmax_transposed_imputed_df.iloc[0]\n",
        "tmax_df  = pd.DataFrame(weather_MX17004_2010_tmax_transposed_imputed_df.values[1:], columns=headers)\n",
        "tmax_df.index.name = 'day'\n"
      ],
      "outputs": [
        {
          "output_type": "stream",
          "name": "stderr",
          "text": [
            "/Users/abhijit/opt/anaconda3/envs/biof440/lib/python3.8/site-packages/pandas/core/frame.py:4308: SettingWithCopyWarning: \n",
            "A value is trying to be set on a copy of a slice from a DataFrame\n",
            "\n",
            "See the caveats in the documentation: https://pandas.pydata.org/pandas-docs/stable/user_guide/indexing.html#returning-a-view-versus-a-copy\n",
            "  return super().drop(\n"
          ]
        }
      ],
      "execution_count": 13,
      "metadata": {
        "collapsed": true,
        "jupyter": {
          "source_hidden": false,
          "outputs_hidden": false
        },
        "nteract": {
          "transient": {
            "deleting": false
          }
        },
        "execution": {
          "iopub.status.busy": "2021-05-08T19:29:10.163Z",
          "iopub.execute_input": "2021-05-08T19:29:10.175Z",
          "iopub.status.idle": "2021-05-08T19:29:11.520Z",
          "shell.execute_reply": "2021-05-08T19:29:11.534Z"
        }
      },
      "id": "5d375046-6a83-4579-b8de-22a118b8adda"
    },
    {
      "cell_type": "code",
      "source": [
        "tmax_df"
      ],
      "outputs": [
        {
          "output_type": "execute_result",
          "execution_count": 15,
          "data": {
            "text/plain": "0    1.0   2.0   3.0    4.0   5.0   6.0   7.0   8.0   10.0   11.0  12.0\nday                                                                    \n0    14.4  27.3  31.6  20.15  19.1  28.0  28.6  28.5  28.4  27.45  29.9\n1    14.4  27.3  31.6  20.15  19.1  28.0  28.6  28.5  28.4  31.30  27.8\n2    14.4  24.1  31.6  20.15  19.1  28.0  28.6  28.5  28.4  27.45  27.8\n3    14.4  27.3  31.6  20.15  19.1  28.0  28.6  28.5  28.4  27.20  27.8\n4    14.4  27.3  32.1  20.15  19.1  28.0  28.6  29.6  27.0  26.30  27.8\n5    14.4  27.3  31.6  20.15  19.1  28.0  28.6  28.5  28.4  27.45  27.8\n6    14.4  27.3  31.6  20.15  19.1  28.0  28.6  28.5  28.1  27.45  27.8\n7    14.4  27.3  31.6  20.15  19.1  28.0  28.6  29.0  28.4  27.45  27.8\n8    14.4  27.3  31.6  20.15  19.1  28.0  28.6  28.5  28.4  27.45  27.8\n9    14.4  27.3  34.5  20.15  19.1  28.0  28.6  28.5  28.4  27.45  27.8\n10   14.4  29.7  31.6  20.15  19.1  28.0  28.6  28.5  28.4  27.45  27.8\n11   14.4  27.3  31.6  20.15  19.1  28.0  28.6  28.5  28.4  27.45  27.8\n12   14.4  27.3  31.6  20.15  19.1  28.0  28.6  29.8  28.4  27.45  27.8\n13   14.4  27.3  31.6  20.15  19.1  28.0  29.9  28.5  29.5  27.45  27.8\n14   14.4  27.3  31.6  20.15  19.1  28.0  28.6  28.5  28.7  27.45  27.8\n15   14.4  27.3  31.1  20.15  19.1  28.0  28.6  28.5  28.4  27.45  27.8\n16   14.4  27.3  31.6  20.15  19.1  28.0  28.6  28.5  28.4  27.45  27.8\n17   14.4  27.3  31.6  20.15  19.1  28.0  28.6  28.5  28.4  27.45  27.8\n18   14.4  27.3  31.6  20.15  19.1  28.0  28.6  28.5  28.4  27.45  27.8\n19   14.4  27.3  31.6  20.15  19.1  28.0  28.6  28.5  28.4  27.45  27.8\n20   14.4  27.3  31.6  20.15  19.1  28.0  28.6  28.5  28.4  27.45  27.8\n21   14.4  27.3  31.6  20.15  19.1  28.0  28.6  28.5  28.4  27.45  27.8\n22   14.4  29.9  31.6  20.15  19.1  28.0  28.6  26.4  28.4  27.45  27.8\n23   14.4  27.3  31.6  20.15  19.1  28.0  28.6  28.5  28.4  27.45  27.8\n24   14.4  27.3  31.6  20.15  19.1  28.0  28.6  29.7  28.4  27.45  27.8\n25   14.4  27.3  31.6  20.15  19.1  28.0  28.6  28.5  28.4  28.10  27.8\n26   14.4  27.3  31.6  36.30  33.2  28.0  28.6  28.5  28.4  27.70  27.8\n27   14.4  27.3  31.6  20.15  19.1  28.0  28.6  28.5  31.2  27.45  27.8\n28   14.4  27.3  31.6  20.15  19.1  30.1  28.6  28.0  28.4  27.45  27.8\n29   27.8  27.3  31.6  20.15  19.1  28.0  28.6  28.5  28.4  27.45  27.8\n30   14.4  27.3  31.6  20.15  19.1  28.0  28.6  25.4  28.4  27.45  27.8",
            "text/html": "<div>\n<style scoped>\n    .dataframe tbody tr th:only-of-type {\n        vertical-align: middle;\n    }\n\n    .dataframe tbody tr th {\n        vertical-align: top;\n    }\n\n    .dataframe thead th {\n        text-align: right;\n    }\n</style>\n<table border=\"1\" class=\"dataframe\">\n  <thead>\n    <tr style=\"text-align: right;\">\n      <th></th>\n      <th>1.0</th>\n      <th>2.0</th>\n      <th>3.0</th>\n      <th>4.0</th>\n      <th>5.0</th>\n      <th>6.0</th>\n      <th>7.0</th>\n      <th>8.0</th>\n      <th>10.0</th>\n      <th>11.0</th>\n      <th>12.0</th>\n    </tr>\n    <tr>\n      <th>day</th>\n      <th></th>\n      <th></th>\n      <th></th>\n      <th></th>\n      <th></th>\n      <th></th>\n      <th></th>\n      <th></th>\n      <th></th>\n      <th></th>\n      <th></th>\n    </tr>\n  </thead>\n  <tbody>\n    <tr>\n      <th>0</th>\n      <td>14.4</td>\n      <td>27.3</td>\n      <td>31.6</td>\n      <td>20.15</td>\n      <td>19.1</td>\n      <td>28.0</td>\n      <td>28.6</td>\n      <td>28.5</td>\n      <td>28.4</td>\n      <td>27.45</td>\n      <td>29.9</td>\n    </tr>\n    <tr>\n      <th>1</th>\n      <td>14.4</td>\n      <td>27.3</td>\n      <td>31.6</td>\n      <td>20.15</td>\n      <td>19.1</td>\n      <td>28.0</td>\n      <td>28.6</td>\n      <td>28.5</td>\n      <td>28.4</td>\n      <td>31.30</td>\n      <td>27.8</td>\n    </tr>\n    <tr>\n      <th>2</th>\n      <td>14.4</td>\n      <td>24.1</td>\n      <td>31.6</td>\n      <td>20.15</td>\n      <td>19.1</td>\n      <td>28.0</td>\n      <td>28.6</td>\n      <td>28.5</td>\n      <td>28.4</td>\n      <td>27.45</td>\n      <td>27.8</td>\n    </tr>\n    <tr>\n      <th>3</th>\n      <td>14.4</td>\n      <td>27.3</td>\n      <td>31.6</td>\n      <td>20.15</td>\n      <td>19.1</td>\n      <td>28.0</td>\n      <td>28.6</td>\n      <td>28.5</td>\n      <td>28.4</td>\n      <td>27.20</td>\n      <td>27.8</td>\n    </tr>\n    <tr>\n      <th>4</th>\n      <td>14.4</td>\n      <td>27.3</td>\n      <td>32.1</td>\n      <td>20.15</td>\n      <td>19.1</td>\n      <td>28.0</td>\n      <td>28.6</td>\n      <td>29.6</td>\n      <td>27.0</td>\n      <td>26.30</td>\n      <td>27.8</td>\n    </tr>\n    <tr>\n      <th>5</th>\n      <td>14.4</td>\n      <td>27.3</td>\n      <td>31.6</td>\n      <td>20.15</td>\n      <td>19.1</td>\n      <td>28.0</td>\n      <td>28.6</td>\n      <td>28.5</td>\n      <td>28.4</td>\n      <td>27.45</td>\n      <td>27.8</td>\n    </tr>\n    <tr>\n      <th>6</th>\n      <td>14.4</td>\n      <td>27.3</td>\n      <td>31.6</td>\n      <td>20.15</td>\n      <td>19.1</td>\n      <td>28.0</td>\n      <td>28.6</td>\n      <td>28.5</td>\n      <td>28.1</td>\n      <td>27.45</td>\n      <td>27.8</td>\n    </tr>\n    <tr>\n      <th>7</th>\n      <td>14.4</td>\n      <td>27.3</td>\n      <td>31.6</td>\n      <td>20.15</td>\n      <td>19.1</td>\n      <td>28.0</td>\n      <td>28.6</td>\n      <td>29.0</td>\n      <td>28.4</td>\n      <td>27.45</td>\n      <td>27.8</td>\n    </tr>\n    <tr>\n      <th>8</th>\n      <td>14.4</td>\n      <td>27.3</td>\n      <td>31.6</td>\n      <td>20.15</td>\n      <td>19.1</td>\n      <td>28.0</td>\n      <td>28.6</td>\n      <td>28.5</td>\n      <td>28.4</td>\n      <td>27.45</td>\n      <td>27.8</td>\n    </tr>\n    <tr>\n      <th>9</th>\n      <td>14.4</td>\n      <td>27.3</td>\n      <td>34.5</td>\n      <td>20.15</td>\n      <td>19.1</td>\n      <td>28.0</td>\n      <td>28.6</td>\n      <td>28.5</td>\n      <td>28.4</td>\n      <td>27.45</td>\n      <td>27.8</td>\n    </tr>\n    <tr>\n      <th>10</th>\n      <td>14.4</td>\n      <td>29.7</td>\n      <td>31.6</td>\n      <td>20.15</td>\n      <td>19.1</td>\n      <td>28.0</td>\n      <td>28.6</td>\n      <td>28.5</td>\n      <td>28.4</td>\n      <td>27.45</td>\n      <td>27.8</td>\n    </tr>\n    <tr>\n      <th>11</th>\n      <td>14.4</td>\n      <td>27.3</td>\n      <td>31.6</td>\n      <td>20.15</td>\n      <td>19.1</td>\n      <td>28.0</td>\n      <td>28.6</td>\n      <td>28.5</td>\n      <td>28.4</td>\n      <td>27.45</td>\n      <td>27.8</td>\n    </tr>\n    <tr>\n      <th>12</th>\n      <td>14.4</td>\n      <td>27.3</td>\n      <td>31.6</td>\n      <td>20.15</td>\n      <td>19.1</td>\n      <td>28.0</td>\n      <td>28.6</td>\n      <td>29.8</td>\n      <td>28.4</td>\n      <td>27.45</td>\n      <td>27.8</td>\n    </tr>\n    <tr>\n      <th>13</th>\n      <td>14.4</td>\n      <td>27.3</td>\n      <td>31.6</td>\n      <td>20.15</td>\n      <td>19.1</td>\n      <td>28.0</td>\n      <td>29.9</td>\n      <td>28.5</td>\n      <td>29.5</td>\n      <td>27.45</td>\n      <td>27.8</td>\n    </tr>\n    <tr>\n      <th>14</th>\n      <td>14.4</td>\n      <td>27.3</td>\n      <td>31.6</td>\n      <td>20.15</td>\n      <td>19.1</td>\n      <td>28.0</td>\n      <td>28.6</td>\n      <td>28.5</td>\n      <td>28.7</td>\n      <td>27.45</td>\n      <td>27.8</td>\n    </tr>\n    <tr>\n      <th>15</th>\n      <td>14.4</td>\n      <td>27.3</td>\n      <td>31.1</td>\n      <td>20.15</td>\n      <td>19.1</td>\n      <td>28.0</td>\n      <td>28.6</td>\n      <td>28.5</td>\n      <td>28.4</td>\n      <td>27.45</td>\n      <td>27.8</td>\n    </tr>\n    <tr>\n      <th>16</th>\n      <td>14.4</td>\n      <td>27.3</td>\n      <td>31.6</td>\n      <td>20.15</td>\n      <td>19.1</td>\n      <td>28.0</td>\n      <td>28.6</td>\n      <td>28.5</td>\n      <td>28.4</td>\n      <td>27.45</td>\n      <td>27.8</td>\n    </tr>\n    <tr>\n      <th>17</th>\n      <td>14.4</td>\n      <td>27.3</td>\n      <td>31.6</td>\n      <td>20.15</td>\n      <td>19.1</td>\n      <td>28.0</td>\n      <td>28.6</td>\n      <td>28.5</td>\n      <td>28.4</td>\n      <td>27.45</td>\n      <td>27.8</td>\n    </tr>\n    <tr>\n      <th>18</th>\n      <td>14.4</td>\n      <td>27.3</td>\n      <td>31.6</td>\n      <td>20.15</td>\n      <td>19.1</td>\n      <td>28.0</td>\n      <td>28.6</td>\n      <td>28.5</td>\n      <td>28.4</td>\n      <td>27.45</td>\n      <td>27.8</td>\n    </tr>\n    <tr>\n      <th>19</th>\n      <td>14.4</td>\n      <td>27.3</td>\n      <td>31.6</td>\n      <td>20.15</td>\n      <td>19.1</td>\n      <td>28.0</td>\n      <td>28.6</td>\n      <td>28.5</td>\n      <td>28.4</td>\n      <td>27.45</td>\n      <td>27.8</td>\n    </tr>\n    <tr>\n      <th>20</th>\n      <td>14.4</td>\n      <td>27.3</td>\n      <td>31.6</td>\n      <td>20.15</td>\n      <td>19.1</td>\n      <td>28.0</td>\n      <td>28.6</td>\n      <td>28.5</td>\n      <td>28.4</td>\n      <td>27.45</td>\n      <td>27.8</td>\n    </tr>\n    <tr>\n      <th>21</th>\n      <td>14.4</td>\n      <td>27.3</td>\n      <td>31.6</td>\n      <td>20.15</td>\n      <td>19.1</td>\n      <td>28.0</td>\n      <td>28.6</td>\n      <td>28.5</td>\n      <td>28.4</td>\n      <td>27.45</td>\n      <td>27.8</td>\n    </tr>\n    <tr>\n      <th>22</th>\n      <td>14.4</td>\n      <td>29.9</td>\n      <td>31.6</td>\n      <td>20.15</td>\n      <td>19.1</td>\n      <td>28.0</td>\n      <td>28.6</td>\n      <td>26.4</td>\n      <td>28.4</td>\n      <td>27.45</td>\n      <td>27.8</td>\n    </tr>\n    <tr>\n      <th>23</th>\n      <td>14.4</td>\n      <td>27.3</td>\n      <td>31.6</td>\n      <td>20.15</td>\n      <td>19.1</td>\n      <td>28.0</td>\n      <td>28.6</td>\n      <td>28.5</td>\n      <td>28.4</td>\n      <td>27.45</td>\n      <td>27.8</td>\n    </tr>\n    <tr>\n      <th>24</th>\n      <td>14.4</td>\n      <td>27.3</td>\n      <td>31.6</td>\n      <td>20.15</td>\n      <td>19.1</td>\n      <td>28.0</td>\n      <td>28.6</td>\n      <td>29.7</td>\n      <td>28.4</td>\n      <td>27.45</td>\n      <td>27.8</td>\n    </tr>\n    <tr>\n      <th>25</th>\n      <td>14.4</td>\n      <td>27.3</td>\n      <td>31.6</td>\n      <td>20.15</td>\n      <td>19.1</td>\n      <td>28.0</td>\n      <td>28.6</td>\n      <td>28.5</td>\n      <td>28.4</td>\n      <td>28.10</td>\n      <td>27.8</td>\n    </tr>\n    <tr>\n      <th>26</th>\n      <td>14.4</td>\n      <td>27.3</td>\n      <td>31.6</td>\n      <td>36.30</td>\n      <td>33.2</td>\n      <td>28.0</td>\n      <td>28.6</td>\n      <td>28.5</td>\n      <td>28.4</td>\n      <td>27.70</td>\n      <td>27.8</td>\n    </tr>\n    <tr>\n      <th>27</th>\n      <td>14.4</td>\n      <td>27.3</td>\n      <td>31.6</td>\n      <td>20.15</td>\n      <td>19.1</td>\n      <td>28.0</td>\n      <td>28.6</td>\n      <td>28.5</td>\n      <td>31.2</td>\n      <td>27.45</td>\n      <td>27.8</td>\n    </tr>\n    <tr>\n      <th>28</th>\n      <td>14.4</td>\n      <td>27.3</td>\n      <td>31.6</td>\n      <td>20.15</td>\n      <td>19.1</td>\n      <td>30.1</td>\n      <td>28.6</td>\n      <td>28.0</td>\n      <td>28.4</td>\n      <td>27.45</td>\n      <td>27.8</td>\n    </tr>\n    <tr>\n      <th>29</th>\n      <td>27.8</td>\n      <td>27.3</td>\n      <td>31.6</td>\n      <td>20.15</td>\n      <td>19.1</td>\n      <td>28.0</td>\n      <td>28.6</td>\n      <td>28.5</td>\n      <td>28.4</td>\n      <td>27.45</td>\n      <td>27.8</td>\n    </tr>\n    <tr>\n      <th>30</th>\n      <td>14.4</td>\n      <td>27.3</td>\n      <td>31.6</td>\n      <td>20.15</td>\n      <td>19.1</td>\n      <td>28.0</td>\n      <td>28.6</td>\n      <td>25.4</td>\n      <td>28.4</td>\n      <td>27.45</td>\n      <td>27.8</td>\n    </tr>\n  </tbody>\n</table>\n</div>"
          },
          "metadata": {}
        }
      ],
      "execution_count": 15,
      "metadata": {
        "collapsed": true,
        "jupyter": {
          "source_hidden": false,
          "outputs_hidden": false
        },
        "nteract": {
          "transient": {
            "deleting": false
          }
        },
        "execution": {
          "iopub.status.busy": "2021-05-08T19:29:53.576Z",
          "iopub.execute_input": "2021-05-08T19:29:53.590Z",
          "iopub.status.idle": "2021-05-08T19:29:53.620Z",
          "shell.execute_reply": "2021-05-08T19:29:53.636Z"
        }
      },
      "id": "21b6d503-0240-410a-9a61-e88257930e87"
    },
    {
      "cell_type": "code",
      "source": [
        "from glob import glob\n",
        "filenames = sorted(glob('data/table*.csv')) \n",
        "tbl_data = dict(zip([i.replace('data/', '').replace('.csv', '') for i in filenames], [pd.read_csv(f) for f in filenames]))"
      ],
      "outputs": [],
      "execution_count": 18,
      "metadata": {
        "collapsed": true,
        "jupyter": {
          "source_hidden": false,
          "outputs_hidden": false
        },
        "nteract": {
          "transient": {
            "deleting": false
          }
        },
        "execution": {
          "iopub.status.busy": "2021-05-08T19:41:52.385Z",
          "iopub.execute_input": "2021-05-08T19:41:52.399Z",
          "iopub.status.idle": "2021-05-08T19:41:52.420Z",
          "shell.execute_reply": "2021-05-08T19:41:52.434Z"
        }
      },
      "id": "e073cf76-a827-4d71-816b-88466a35a7b1"
    },
    {
      "cell_type": "code",
      "source": [
        "tbl_data"
      ],
      "outputs": [
        {
          "output_type": "execute_result",
          "execution_count": 19,
          "data": {
            "text/plain": "{'table1':        country  year   cases  population\n 0  Afghanistan  1999     745    19987071\n 1  Afghanistan  2000    2666    20595360\n 2       Brazil  1999   37737   172006362\n 3       Brazil  2000   80488   174504898\n 4        China  1999  212258  1272915272\n 5        China  2000  213766  1280428583,\n 'table2':         country  year        type       count\n 0   Afghanistan  1999       cases         745\n 1   Afghanistan  1999  population    19987071\n 2   Afghanistan  2000       cases        2666\n 3   Afghanistan  2000  population    20595360\n 4        Brazil  1999       cases       37737\n 5        Brazil  1999  population   172006362\n 6        Brazil  2000       cases       80488\n 7        Brazil  2000  population   174504898\n 8         China  1999       cases      212258\n 9         China  1999  population  1272915272\n 10        China  2000       cases      213766\n 11        China  2000  population  1280428583,\n 'table3':        country  year               rate\n 0  Afghanistan  1999       745/19987071\n 1  Afghanistan  2000      2666/20595360\n 2       Brazil  1999    37737/172006362\n 3       Brazil  2000    80488/174504898\n 4        China  1999  212258/1272915272\n 5        China  2000  213766/1280428583,\n 'table4a':        country    1999    2000\n 0  Afghanistan     745    2666\n 1       Brazil   37737   80488\n 2        China  212258  213766,\n 'table4b':        country        1999        2000\n 0  Afghanistan    19987071    20595360\n 1       Brazil   172006362   174504898\n 2        China  1272915272  1280428583,\n 'table5':        country  century  year               rate\n 0  Afghanistan       19    99       745/19987071\n 1  Afghanistan       20     0      2666/20595360\n 2       Brazil       19    99    37737/172006362\n 3       Brazil       20     0    80488/174504898\n 4        China       19    99  212258/1272915272\n 5        China       20     0  213766/1280428583}"
          },
          "metadata": {}
        }
      ],
      "execution_count": 19,
      "metadata": {
        "collapsed": true,
        "jupyter": {
          "source_hidden": false,
          "outputs_hidden": false
        },
        "nteract": {
          "transient": {
            "deleting": false
          }
        },
        "execution": {
          "iopub.status.busy": "2021-05-08T19:41:57.366Z",
          "iopub.execute_input": "2021-05-08T19:41:57.380Z",
          "iopub.status.idle": "2021-05-08T19:41:57.410Z",
          "shell.execute_reply": "2021-05-08T19:41:57.422Z"
        }
      },
      "id": "d914a5fd-ccbe-4e9f-9632-375b67879aed"
    },
    {
      "cell_type": "code",
      "source": [
        "def add_HR (row):\n",
        "   if row['ER Status'] == 'Positive' :\n",
        "      return 'HR+'\n",
        "   if row['PR Status'] == 'Positive' :\n",
        "      return 'HR+'\n",
        "   if row['HER2 Final Status'] == 'Positive':\n",
        "      return 'HER2'\n",
        "   return 'Triple Neg'\n",
        "\n",
        "brca['HR'] =  brca.apply (lambda row: add_HR(row), axis=1)"
      ],
      "outputs": [],
      "execution_count": 20,
      "metadata": {
        "collapsed": true,
        "jupyter": {
          "source_hidden": false,
          "outputs_hidden": false
        },
        "nteract": {
          "transient": {
            "deleting": false
          }
        },
        "execution": {
          "iopub.status.busy": "2021-05-08T20:08:12.663Z",
          "iopub.execute_input": "2021-05-08T20:08:12.677Z",
          "iopub.status.idle": "2021-05-08T20:08:12.696Z",
          "shell.execute_reply": "2021-05-08T20:08:12.711Z"
        }
      },
      "id": "a7001678-6057-40ab-9d46-f5534cbd76a6"
    },
    {
      "cell_type": "code",
      "source": [
        "brca['HR'].value_counts()"
      ],
      "outputs": [
        {
          "output_type": "execute_result",
          "execution_count": 21,
          "data": {
            "text/plain": "HR+           69\nTriple Neg    26\nHER2          13\nName: HR, dtype: int64"
          },
          "metadata": {}
        }
      ],
      "execution_count": 21,
      "metadata": {
        "collapsed": true,
        "jupyter": {
          "source_hidden": false,
          "outputs_hidden": false
        },
        "nteract": {
          "transient": {
            "deleting": false
          }
        },
        "execution": {
          "iopub.status.busy": "2021-05-08T20:08:21.793Z",
          "iopub.execute_input": "2021-05-08T20:08:21.806Z",
          "iopub.status.idle": "2021-05-08T20:08:21.834Z",
          "shell.execute_reply": "2021-05-08T20:08:21.846Z"
        }
      },
      "id": "fb99b15f-198f-4f2b-887f-a23c79cad84d"
    },
    {
      "cell_type": "code",
      "source": [],
      "outputs": [],
      "execution_count": null,
      "metadata": {
        "collapsed": true,
        "jupyter": {
          "source_hidden": false,
          "outputs_hidden": false
        },
        "nteract": {
          "transient": {
            "deleting": false
          }
        }
      },
      "id": "3e31fc3b-765e-424e-b87d-d564417bfa7c"
    }
  ],
  "metadata": {
    "kernelspec": {
      "display_name": "Python 3",
      "language": "python",
      "name": "python3"
    },
    "language_info": {
      "name": "python",
      "version": "3.8.8",
      "mimetype": "text/x-python",
      "codemirror_mode": {
        "name": "ipython",
        "version": 3
      },
      "pygments_lexer": "ipython3",
      "nbconvert_exporter": "python",
      "file_extension": ".py"
    },
    "nteract": {
      "version": "0.28.0"
    }
  },
  "nbformat": 4,
  "nbformat_minor": 5
}